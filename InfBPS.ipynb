{
 "cells": [
  {
   "cell_type": "code",
   "execution_count": 11,
   "metadata": {},
   "outputs": [],
   "source": [
    "from tqdm import tqdm_notebook as tqdm\n",
    "import numpy as np\n",
    "import scipy.linalg as lin\n",
    "\n",
    "import matplotlib.pyplot as plt\n",
    "plt.style.use(['dark_background'])\n",
    "\n",
    "import statsmodels.tsa.stattools as st"
   ]
  },
  {
   "cell_type": "markdown",
   "metadata": {},
   "source": [
    "# Implementation of Vanilla BPS"
   ]
  },
  {
   "cell_type": "code",
   "execution_count": null,
   "metadata": {},
   "outputs": [],
   "source": [
    "def next_bounce_time_gaussian(x, v, Cinv, Z):\n",
    "    A = v @ Cinv @ x\n",
    "    B = v @ Cinv @ v\n",
    "    T0 = np.maximum(0.0, -A/B)\n",
    "        \n",
    "    tau = (-A + np.sqrt(A*A + 2*A*B*T0 + B*B*T0*T0 + 2*B*Z))/B\n",
    "    \n",
    "    return tau"
   ]
  },
  {
   "cell_type": "code",
   "execution_count": null,
   "metadata": {},
   "outputs": [],
   "source": [
    "def next_refresh_time(lambda_refresh, Z):\n",
    "    return Z/lambda_refresh"
   ]
  },
  {
   "cell_type": "code",
   "execution_count": null,
   "metadata": {},
   "outputs": [],
   "source": [
    "def bounce(v, x, Cinv):\n",
    "    z = Cinv @ x\n",
    "    A = np.dot(v, z)\n",
    "    B = np.dot(z, z)\n",
    "    return v - 2.0*(A/B)*z"
   ]
  },
  {
   "cell_type": "code",
   "execution_count": null,
   "metadata": {},
   "outputs": [],
   "source": [
    "def refresh_velocity(d):\n",
    "    return np.random.randn(d)"
   ]
  },
  {
   "cell_type": "code",
   "execution_count": null,
   "metadata": {},
   "outputs": [],
   "source": [
    "def bps_standard(C, x0, v0, lambda_refresh, T, num_samples):\n",
    "    d = x0.shape[0]\n",
    "    Cinv = np.linalg.inv(C)\n",
    "\n",
    "    sample_mesh  = np.linspace(0, T, num_samples)\n",
    "\n",
    "    t = 0.0\n",
    "\n",
    "    refresh_count = 0\n",
    "    reflect_count = 0\n",
    "    \n",
    "    x_sample = np.zeros((len(sample_mesh), d))\n",
    "    v_sample = np.zeros((len(sample_mesh), d))\n",
    "    t_sample = np.zeros(len(sample_mesh))\n",
    "    num_reflect = np.zeros(len(sample_mesh))\n",
    "    num_refresh = np.zeros(len(sample_mesh))\n",
    "\n",
    "    erg_av  = 0.0\n",
    "    erg_var = 0.0\n",
    "\n",
    "    sample_index = 0\n",
    "    \n",
    "    x = x0\n",
    "    v = v0\n",
    "\n",
    "    while (t < T):    \n",
    "        tau_bounce = next_bounce_time_gaussian(x, v, Cinv, -np.log(np.random.rand()))\n",
    "        tau_refresh = next_refresh_time(lambda_refresh, -np.log(np.random.rand()))\n",
    "\n",
    "        tau_min = np.minimum(tau_bounce, tau_refresh)\n",
    "        \n",
    "        #Generate the ergodic averages\n",
    "        erg_av = erg_av + x*tau_min + 0.5*v*tau_min**2\n",
    "        erg_var = erg_var +  x*x*tau_min + v*x*tau_min**2 + (1.0/3)*v*v*tau_min**3\n",
    "\n",
    "        #Generate the regular sample of x, v, t along the trajectory\n",
    "        while ((sample_index < num_samples) and (t + tau_min > sample_mesh[sample_index])):\n",
    "            x_sample[sample_index,:] = x + (sample_mesh[sample_index] - t)*v\n",
    "            v_sample[sample_index, :] = v\n",
    "            t_sample[sample_index] = t\n",
    "            \n",
    "            num_reflect[sample_index] = reflect_count\n",
    "            num_refresh[sample_index] = refresh_count\n",
    "            \n",
    "            reflect_count = 0\n",
    "            refresh_count = 0\n",
    "            sample_index = sample_index + 1\n",
    "            \n",
    "        #Store switching information\n",
    "\n",
    "        t = t + tau_min\n",
    "        x = x + tau_min*v\n",
    "\n",
    "        if (tau_bounce < tau_refresh):\n",
    "            v = bounce(v, x, Cinv)\n",
    "            reflect_count = reflect_count + 1\n",
    "        else:\n",
    "            v = refresh_velocity(d)\n",
    "            refresh_count = refresh_count + 1\n",
    "        \n",
    "    erg_av = erg_av/t\n",
    "    erg_var = erg_var/t\n",
    "    \n",
    "    return(erg_av, erg_var, x_sample, v_sample, t_sample, num_reflect, num_refresh)"
   ]
  },
  {
   "cell_type": "code",
   "execution_count": null,
   "metadata": {},
   "outputs": [],
   "source": [
    "d = 2\n",
    "C = np.diag(np.ones(d))\n",
    "Cinv = np.linalg.inv(C)\n",
    "x0 = np.random.randn(d)\n",
    "v0 = np.random.randn(d)\n",
    "T = 100000.0\n",
    "lambda_refresh = 0.1\n",
    "\n",
    "num_samples = 100000\n",
    "\n",
    "erg_av, erg_var, x_sample, v_sample, t_sample, num_reflect, num_refresh = bps_standard(C, x0, v0, lambda_refresh, T, num_samples)\n"
   ]
  },
  {
   "cell_type": "code",
   "execution_count": null,
   "metadata": {},
   "outputs": [],
   "source": [
    "erg_av, erg_var"
   ]
  },
  {
   "cell_type": "code",
   "execution_count": null,
   "metadata": {},
   "outputs": [],
   "source": [
    "plt.hist2d(x_sample[:,0], x_sample[:,1], bins=100);"
   ]
  },
  {
   "cell_type": "markdown",
   "metadata": {},
   "source": [
    "# High dimensional scaling of BPS"
   ]
  },
  {
   "cell_type": "code",
   "execution_count": null,
   "metadata": {},
   "outputs": [],
   "source": [
    "def refresh_velocity_generalised(P):\n",
    "    return np.random.multivariate_normal(np.zeros(P.shape[0]), P)"
   ]
  },
  {
   "cell_type": "code",
   "execution_count": null,
   "metadata": {},
   "outputs": [],
   "source": [
    "def bounce_generalised(v, x, P, Cinv):\n",
    "    z = Cinv @ x\n",
    "    A = np.dot(v, z)\n",
    "    B = np.dot(z, P @ z)\n",
    "    return v - 2.0*(A/B)* (P @ z)"
   ]
  },
  {
   "cell_type": "code",
   "execution_count": null,
   "metadata": {},
   "outputs": [],
   "source": [
    "def bps_generalised(C, x0, v0, lambda_refresh, eta, T, num_samples):\n",
    "    d = x0.shape[0]\n",
    "    Cinv = np.diag(1.0/np.diag(C))\n",
    "    P = np.diag(np.diag(C)**eta)\n",
    "    \n",
    "    sample_mesh  = np.linspace(0, T, num_samples)\n",
    "\n",
    "    t = 0.0\n",
    "\n",
    "    refresh_count = 0\n",
    "    reflect_count = 0\n",
    "    \n",
    "    x_sample = np.zeros((len(sample_mesh), d))\n",
    "    v_sample = np.zeros((len(sample_mesh), d))\n",
    "    t_sample = np.zeros(len(sample_mesh))\n",
    "    num_reflect = np.zeros(len(sample_mesh))\n",
    "    num_refresh = np.zeros(len(sample_mesh))\n",
    "\n",
    "    erg_av  = 0.0\n",
    "    erg_var = 0.0\n",
    "\n",
    "    sample_index = 0\n",
    "    \n",
    "    x = x0\n",
    "    v = v0\n",
    "\n",
    "    while (t < T):    \n",
    "        tau_bounce = next_bounce_time_gaussian(x, v, Cinv, -np.log(np.random.rand()))\n",
    "        tau_refresh = next_refresh_time(lambda_refresh, -np.log(np.random.rand()))\n",
    "\n",
    "        tau_min = np.minimum(tau_bounce, tau_refresh)\n",
    "        \n",
    "        #Generate the ergodic averages\n",
    "        erg_av = erg_av + x*tau_min + 0.5*v*tau_min**2\n",
    "        erg_var = erg_var +  x*x*tau_min + v*x*tau_min**2 + (1.0/3)*v*v*tau_min**3\n",
    "\n",
    "        #Generate the regular sample of x, v, t along the trajectory\n",
    "        while ((sample_index < num_samples) and (t + tau_min > sample_mesh[sample_index])):\n",
    "            x_sample[sample_index,:] = x + (sample_mesh[sample_index] - t)*v\n",
    "            v_sample[sample_index, :] = v\n",
    "            t_sample[sample_index] = t\n",
    "            \n",
    "            num_reflect[sample_index] = reflect_count\n",
    "            num_refresh[sample_index] = refresh_count\n",
    "            \n",
    "            reflect_count = 0\n",
    "            refresh_count = 0\n",
    "            sample_index = sample_index + 1\n",
    "            \n",
    "        #Store switching information\n",
    "\n",
    "        t = t + tau_min\n",
    "        x = x + tau_min*v\n",
    "\n",
    "        if (tau_bounce < tau_refresh):\n",
    "            v = bounce_generalised(v, x, P, Cinv)\n",
    "            reflect_count = reflect_count + 1\n",
    "        else:\n",
    "            v = refresh_velocity_generalised(P)\n",
    "            refresh_count = refresh_count + 1\n",
    "        \n",
    "    erg_av = erg_av/t\n",
    "    erg_var = erg_var/t\n",
    "    \n",
    "    return(erg_av, erg_var, x_sample, v_sample, t_sample, num_reflect, num_refresh)"
   ]
  },
  {
   "cell_type": "code",
   "execution_count": null,
   "metadata": {},
   "outputs": [],
   "source": [
    "d = 3\n",
    "C = np.diag([1.0/(i+1)**2 for i in np.arange(d)])\n",
    "x0 = np.random.randn(d)\n",
    "v0 = np.random.randn(d)\n",
    "T = 200000.0\n",
    "lambda_refresh = 0.1\n",
    "eta  = 0.0\n",
    "\n",
    "num_samples = 100000\n",
    "\n",
    "erg_av, erg_var, x_sample, v_sample, t_sample, num_reflect, num_refresh = bps_generalised(C, x0, v0, lambda_refresh, eta, T, num_samples)\n"
   ]
  },
  {
   "cell_type": "code",
   "execution_count": null,
   "metadata": {},
   "outputs": [],
   "source": [
    "plt.plot(np.cumsum(x_sample[:,0])/np.arange(1, 1+ len(x_sample[:,0])))\n",
    "plt.title(\"ergodic average of mean\")\n",
    "plt.show()\n",
    "plt.plot(np.cumsum(num_reflect)/np.arange(1, 1+ len(num_reflect)))\n",
    "plt.title(\"Avg number of reflections\")\n",
    "plt.show()\n",
    "plt.plot(st.acf(x_sample[:,0],unbiased=True))\n",
    "plt.title(\"ACF plot\")\n",
    "plt.show()"
   ]
  },
  {
   "cell_type": "code",
   "execution_count": null,
   "metadata": {},
   "outputs": [],
   "source": [
    "eta  = 1.0\n",
    "erg_av, erg_var, x_sample, v_sample, t_sample, num_reflect, num_refresh = bps_generalised(C, x0, v0, lambda_refresh, eta, T, num_samples)\n",
    "plt.plot(np.cumsum(x_sample[:,0])/np.arange(1, 1+ len(x_sample[:,0])))\n",
    "plt.title(\"ergodic average of mean\")\n",
    "plt.show()\n",
    "plt.plot(np.cumsum(num_reflect)/np.arange(1, 1+ len(num_reflect)))\n",
    "plt.title(\"Avg number of reflections\")\n",
    "plt.show()\n",
    "plt.plot(st.acf(x_sample[:,0],unbiased=True))\n",
    "plt.title(\"ACF plot\")\n",
    "plt.show()"
   ]
  },
  {
   "cell_type": "code",
   "execution_count": null,
   "metadata": {},
   "outputs": [],
   "source": [
    "eta  = 2.0\n",
    "erg_av, erg_var, x_sample, v_sample, t_sample, num_reflect, num_refresh = bps_generalised(C, x0, v0, lambda_refresh, eta, T, num_samples)\n",
    "plt.plot(np.cumsum(x_sample[:,0])/np.arange(1, 1+ len(x_sample[:,0])))\n",
    "plt.title(\"ergodic average of mean\")\n",
    "plt.show()\n",
    "plt.plot(np.cumsum(num_reflect)/np.arange(1, 1+ len(num_reflect)))\n",
    "plt.title(\"Avg number of reflections\")\n",
    "plt.show()\n",
    "plt.plot(st.acf(x_sample[:,0],unbiased=True))\n",
    "plt.title(\"ACF plot\")\n",
    "plt.show()"
   ]
  },
  {
   "cell_type": "code",
   "execution_count": null,
   "metadata": {},
   "outputs": [],
   "source": [
    "eta  = 5.0\n",
    "erg_av, erg_var, x_sample, v_sample, t_sample, num_reflect, num_refresh = bps_generalised(C, x0, v0, lambda_refresh, eta, T, num_samples)\n",
    "plt.plot(np.cumsum(x_sample[:,0])/np.arange(1, 1+ len(x_sample[:,0])))\n",
    "plt.title(\"ergodic average of mean\")\n",
    "plt.show()\n",
    "plt.plot(np.cumsum(num_reflect)/np.arange(1, 1+ len(num_reflect)))\n",
    "plt.title(\"Avg number of reflections\")\n",
    "plt.show()\n",
    "plt.plot(st.acf(x_sample[:,0],unbiased=True))\n",
    "plt.title(\"ACF plot\")\n",
    "plt.show()"
   ]
  },
  {
   "cell_type": "markdown",
   "metadata": {},
   "source": [
    "# Numerical experiments"
   ]
  },
  {
   "cell_type": "code",
   "execution_count": null,
   "metadata": {},
   "outputs": [],
   "source": [
    "def compute_errors(erg_av, erg_var, C):\n",
    "    av_err = np.linalg.norm(erg_av)\n",
    "    var_err = np.linalg.norm(erg_var - np.diag(C))\n",
    "    \n",
    "    return (av_err, var_err)\n",
    "    \n",
    "def run_experiment(d, eta, burnin, fname):\n",
    "    C = np.diag([1.0/(i+1)**2 for i in np.arange(d)])\n",
    "    x0 = np.random.randn(d)\n",
    "    v0 = np.random.randn(d)\n",
    "    T = 100000.0\n",
    "    lambda_refresh = 0.1\n",
    "\n",
    "    num_samples = 10000\n",
    "\n",
    "    erg_av, erg_var, x_sample, v_sample, t_sample, num_reflect, num_refresh = bps_generalised(C, x0, v0, lambda_refresh, eta, T, num_samples)\n",
    "    \n",
    "    av_err, var_err = compute_errors(erg_av, erg_var, C)\n",
    "        \n",
    "    plt.subplot(2,2,1)\n",
    "    plt.plot(np.cumsum(x_sample[burnin:,0])/np.arange(1, 1+ len(x_sample[burnin:,0])))\n",
    "\n",
    "    plt.subplot(2,2,2)\n",
    "    plt.plot(np.cumsum(num_reflect[burnin:])/np.arange(1, 1+ len(num_reflect[burnin:])))\n",
    "\n",
    "    plt.subplot(2,2,3)\n",
    "    plt.plot(st.acf(x_sample[burnin:,0],unbiased=True))\n",
    "\n",
    "    plt.suptitle(\"d = %d, eta = %1.2f, av_err = %f, var_err = %f\"%(d, eta, av_err, var_err))\n",
    "    plt.tight_layout()\n",
    "    plt.savefig(fname+\".png\",dpi=199)\n",
    "    \n",
    "    np.savetxt(fname+\".txt\", (d, eta, av_err, var_err, np.mean(num_reflect[burnin:])))\n",
    "    \n",
    "    \n",
    "    plt.clf()"
   ]
  },
  {
   "cell_type": "code",
   "execution_count": null,
   "metadata": {},
   "outputs": [],
   "source": [
    "run_experiment(1, 0.0, 500,\"figures/d1_0\");\n",
    "run_experiment(1, 1.0, 500,\"figures/d1_1\");\n",
    "run_experiment(1, 2.0, 500,\"figures/d1_2\");\n",
    "run_experiment(1, 3.0, 500,\"figures/d1_3\");\n",
    "run_experiment(1, 4.0, 500,\"figures/d1_4\");\n",
    "\n",
    "run_experiment(10, 0.0, 500,\"figures/d2_0\");\n",
    "run_experiment(10, 1.0, 500, \"figures/d2_1\");\n",
    "run_experiment(10, 2.0, 500, \"figures/d2_2\");\n",
    "run_experiment(10, 3.0, 500, \"figures/d2_3\");\n",
    "run_experiment(10, 4.0, 500, \"figures/d2_4\");\n",
    "\n",
    "run_experiment(20, 0.0, 500, \"figures/d3_0\");\n",
    "run_experiment(20, 1.0, 500, \"figures/d3_1\");\n",
    "run_experiment(20, 2.0, 500, \"figures/d3_2\");\n",
    "run_experiment(20, 3.0, 500, \"figures/d3_3\");\n",
    "run_experiment(20, 4.0, 500, \"figures/d3_4\");\n",
    "\n",
    "run_experiment(30, 0.0, 500, \"figures/d4_0\");\n",
    "run_experiment(30, 1.0, 500, \"figures/d4_1\");\n",
    "run_experiment(30, 2.0, 500, \"figures/d4_2\");\n",
    "run_experiment(30, 3.0, 500, \"figures/d4_3\");\n",
    "run_experiment(30, 4.0, 500, \"figures/d4_4\");\n",
    "\n",
    "run_experiment(40, 0.0, 500, \"figures/d5_0\");\n",
    "run_experiment(40, 1.0, 500, \"figures/d5_1\");\n",
    "run_experiment(40, 2.0, 500, \"figures/d5_2\");\n",
    "run_experiment(40, 3.0, 500, \"figures/d5_3\");\n",
    "run_experiment(40, 4.0, 500, \"figures/d5_4\");\n",
    "\n",
    "run_experiment(50, 0.0, 500, \"figures/d6_0\");\n",
    "run_experiment(50, 1.0, 500, \"figures/d6_1\");\n",
    "run_experiment(50, 2.0, 500, \"figures/d6_2\");\n",
    "run_experiment(50, 3.0, 500, \"figures/d6_3\");\n",
    "run_experiment(50, 4.0, 500, \"figures/d6_4\");\n",
    "\n",
    "run_experiment(60, 0.0, 500, \"figures/d7_0\");\n",
    "run_experiment(60, 1.0, 500, \"figures/d7_1\");\n",
    "run_experiment(60, 2.0, 500, \"figures/d7_2\");\n",
    "run_experiment(60, 3.0, 500, \"figures/d7_3\");\n",
    "run_experiment(60, 4.0, 500, \"figures/d7_4\");\n",
    "\n",
    "run_experiment(70, 0.0, 500, \"figures/d8_0\");\n",
    "run_experiment(70, 1.0, 500, \"figures/d8_1\");\n",
    "run_experiment(70, 2.0, 500, \"figures/d8_2\");\n",
    "run_experiment(70, 3.0, 500, \"figures/d8_3\");\n",
    "run_experiment(70, 4.0, 500, \"figures/d8_4\");\n",
    "\n",
    "run_experiment(80, 0.0, 500, \"figures/d9_0\");\n",
    "run_experiment(80, 1.0, 500, \"figures/d9_1\");\n",
    "run_experiment(80, 2.0, 500, \"figures/d9_2\");\n",
    "run_experiment(80, 3.0, 500, \"figures/d9_3\");\n",
    "run_experiment(80, 4.0, 500, \"figures/d9_4\");\n",
    "\n",
    "run_experiment(90, 0.0, 500, \"figures/d10_0\");\n",
    "run_experiment(90, 1.0, 500, \"figures/d10_1\");\n",
    "run_experiment(90, 2.0, 500, \"figures/d10_2\");\n",
    "run_experiment(90, 3.0, 500, \"figures/d10_3\");\n",
    "run_experiment(90, 4.0, 500, \"figures/d10_4\");\n",
    "\n",
    "\n",
    "run_experiment(100, 0.0, 500, \"figures/d11_0\");\n",
    "run_experiment(100, 1.0, 500, \"figures/d11_1\");\n",
    "run_experiment(100, 2.0, 500, \"figures/d11_2\");\n",
    "run_experiment(100, 3.0, 500, \"figures/d11_3\");\n",
    "run_experiment(100, 4.0, 500, \"figures/d11_4\");\n"
   ]
  },
  {
   "cell_type": "code",
   "execution_count": null,
   "metadata": {},
   "outputs": [],
   "source": [
    "run_experiment(100, 4.0, 500, \"figures/burnin_test\");"
   ]
  },
  {
   "cell_type": "code",
   "execution_count": 187,
   "metadata": {},
   "outputs": [
    {
     "ename": "OSError",
     "evalue": "figures/burnin_test.txt not found.",
     "output_type": "error",
     "traceback": [
      "\u001b[0;31m---------------------------------------------------------------------------\u001b[0m",
      "\u001b[0;31mOSError\u001b[0m                                   Traceback (most recent call last)",
      "\u001b[0;32m<ipython-input-187-ad400486bf2e>\u001b[0m in \u001b[0;36m<module>\u001b[0;34m()\u001b[0m\n\u001b[0;32m----> 1\u001b[0;31m \u001b[0;34m(\u001b[0m\u001b[0md\u001b[0m\u001b[0;34m,\u001b[0m \u001b[0meta\u001b[0m\u001b[0;34m,\u001b[0m \u001b[0mav_err\u001b[0m\u001b[0;34m,\u001b[0m \u001b[0mvar_err\u001b[0m\u001b[0;34m,\u001b[0m \u001b[0mflip_rate\u001b[0m\u001b[0;34m)\u001b[0m \u001b[0;34m=\u001b[0m \u001b[0mnp\u001b[0m\u001b[0;34m.\u001b[0m\u001b[0mloadtxt\u001b[0m\u001b[0;34m(\u001b[0m\u001b[0;34m\"figures/burnin_test.txt\"\u001b[0m\u001b[0;34m)\u001b[0m\u001b[0;34m\u001b[0m\u001b[0m\n\u001b[0m",
      "\u001b[0;32m~/Library/Python/3.6/lib/python/site-packages/numpy/lib/npyio.py\u001b[0m in \u001b[0;36mloadtxt\u001b[0;34m(fname, dtype, comments, delimiter, converters, skiprows, usecols, unpack, ndmin, encoding, max_rows)\u001b[0m\n\u001b[1;32m    966\u001b[0m             \u001b[0mfname\u001b[0m \u001b[0;34m=\u001b[0m \u001b[0mos_fspath\u001b[0m\u001b[0;34m(\u001b[0m\u001b[0mfname\u001b[0m\u001b[0;34m)\u001b[0m\u001b[0;34m\u001b[0m\u001b[0m\n\u001b[1;32m    967\u001b[0m         \u001b[0;32mif\u001b[0m \u001b[0m_is_string_like\u001b[0m\u001b[0;34m(\u001b[0m\u001b[0mfname\u001b[0m\u001b[0;34m)\u001b[0m\u001b[0;34m:\u001b[0m\u001b[0;34m\u001b[0m\u001b[0m\n\u001b[0;32m--> 968\u001b[0;31m             \u001b[0mfh\u001b[0m \u001b[0;34m=\u001b[0m \u001b[0mnp\u001b[0m\u001b[0;34m.\u001b[0m\u001b[0mlib\u001b[0m\u001b[0;34m.\u001b[0m\u001b[0m_datasource\u001b[0m\u001b[0;34m.\u001b[0m\u001b[0mopen\u001b[0m\u001b[0;34m(\u001b[0m\u001b[0mfname\u001b[0m\u001b[0;34m,\u001b[0m \u001b[0;34m'rt'\u001b[0m\u001b[0;34m,\u001b[0m \u001b[0mencoding\u001b[0m\u001b[0;34m=\u001b[0m\u001b[0mencoding\u001b[0m\u001b[0;34m)\u001b[0m\u001b[0;34m\u001b[0m\u001b[0m\n\u001b[0m\u001b[1;32m    969\u001b[0m             \u001b[0mfencoding\u001b[0m \u001b[0;34m=\u001b[0m \u001b[0mgetattr\u001b[0m\u001b[0;34m(\u001b[0m\u001b[0mfh\u001b[0m\u001b[0;34m,\u001b[0m \u001b[0;34m'encoding'\u001b[0m\u001b[0;34m,\u001b[0m \u001b[0;34m'latin1'\u001b[0m\u001b[0;34m)\u001b[0m\u001b[0;34m\u001b[0m\u001b[0m\n\u001b[1;32m    970\u001b[0m             \u001b[0mfh\u001b[0m \u001b[0;34m=\u001b[0m \u001b[0miter\u001b[0m\u001b[0;34m(\u001b[0m\u001b[0mfh\u001b[0m\u001b[0;34m)\u001b[0m\u001b[0;34m\u001b[0m\u001b[0m\n",
      "\u001b[0;32m~/Library/Python/3.6/lib/python/site-packages/numpy/lib/_datasource.py\u001b[0m in \u001b[0;36mopen\u001b[0;34m(path, mode, destpath, encoding, newline)\u001b[0m\n\u001b[1;32m    267\u001b[0m \u001b[0;34m\u001b[0m\u001b[0m\n\u001b[1;32m    268\u001b[0m     \u001b[0mds\u001b[0m \u001b[0;34m=\u001b[0m \u001b[0mDataSource\u001b[0m\u001b[0;34m(\u001b[0m\u001b[0mdestpath\u001b[0m\u001b[0;34m)\u001b[0m\u001b[0;34m\u001b[0m\u001b[0m\n\u001b[0;32m--> 269\u001b[0;31m     \u001b[0;32mreturn\u001b[0m \u001b[0mds\u001b[0m\u001b[0;34m.\u001b[0m\u001b[0mopen\u001b[0m\u001b[0;34m(\u001b[0m\u001b[0mpath\u001b[0m\u001b[0;34m,\u001b[0m \u001b[0mmode\u001b[0m\u001b[0;34m,\u001b[0m \u001b[0mencoding\u001b[0m\u001b[0;34m=\u001b[0m\u001b[0mencoding\u001b[0m\u001b[0;34m,\u001b[0m \u001b[0mnewline\u001b[0m\u001b[0;34m=\u001b[0m\u001b[0mnewline\u001b[0m\u001b[0;34m)\u001b[0m\u001b[0;34m\u001b[0m\u001b[0m\n\u001b[0m\u001b[1;32m    270\u001b[0m \u001b[0;34m\u001b[0m\u001b[0m\n\u001b[1;32m    271\u001b[0m \u001b[0;34m\u001b[0m\u001b[0m\n",
      "\u001b[0;32m~/Library/Python/3.6/lib/python/site-packages/numpy/lib/_datasource.py\u001b[0m in \u001b[0;36mopen\u001b[0;34m(self, path, mode, encoding, newline)\u001b[0m\n\u001b[1;32m    621\u001b[0m                                       encoding=encoding, newline=newline)\n\u001b[1;32m    622\u001b[0m         \u001b[0;32melse\u001b[0m\u001b[0;34m:\u001b[0m\u001b[0;34m\u001b[0m\u001b[0m\n\u001b[0;32m--> 623\u001b[0;31m             \u001b[0;32mraise\u001b[0m \u001b[0mIOError\u001b[0m\u001b[0;34m(\u001b[0m\u001b[0;34m\"%s not found.\"\u001b[0m \u001b[0;34m%\u001b[0m \u001b[0mpath\u001b[0m\u001b[0;34m)\u001b[0m\u001b[0;34m\u001b[0m\u001b[0m\n\u001b[0m\u001b[1;32m    624\u001b[0m \u001b[0;34m\u001b[0m\u001b[0m\n\u001b[1;32m    625\u001b[0m \u001b[0;34m\u001b[0m\u001b[0m\n",
      "\u001b[0;31mOSError\u001b[0m: figures/burnin_test.txt not found."
     ]
    }
   ],
   "source": [
    "(d, eta, av_err, var_err, flip_rate) = np.loadtxt(\"figures/burnin_test.txt\")"
   ]
  },
  {
   "cell_type": "code",
   "execution_count": null,
   "metadata": {},
   "outputs": [],
   "source": [
    "import glob\n",
    "simulation_table = []\n",
    "for fname in glob.glob('figures/*.txt', recursive=True):\n",
    "    x = np.loadtxt(fname)\n",
    "    simulation_table = simulation_table + [x]\n",
    "    \n",
    "simulation_table = np.vstack(simulation_table)\n",
    "simulation_table = simulation_table[simulation_table[:,0].argsort()]"
   ]
  },
  {
   "cell_type": "code",
   "execution_count": null,
   "metadata": {},
   "outputs": [],
   "source": []
  },
  {
   "cell_type": "code",
   "execution_count": null,
   "metadata": {},
   "outputs": [],
   "source": [
    "series = simulation_table[simulation_table[:,1]==0.0,:]\n",
    "plt.loglog(series[:,0], series[:,4], label='eta = 0')\n",
    "\n",
    "series = simulation_table[simulation_table[:,1]==1.0,:]\n",
    "plt.loglog(series[:,0], series[:,4], label='eta = 1')\n",
    "\n",
    "series = simulation_table[simulation_table[:,1]==2.0,:]\n",
    "plt.loglog(series[:,0], series[:,4], label='eta = 2')\n",
    "\n",
    "series = simulation_table[simulation_table[:,1]==3.0,:]\n",
    "plt.loglog(series[:,0], series[:,4], label='eta = 3')\n",
    "\n",
    "series = simulation_table[simulation_table[:,1]==4.0,:]\n",
    "plt.loglog(series[:,0], series[:,4], label='eta = 4')\n",
    "\n",
    "plt.legend()\n",
    "plt.xlabel(\"dimension\")\n",
    "plt.ylabel(\"flips per unit time\")\n",
    "plt.title(\"Number of flips per unit time\")\n",
    "plt.savefig(\"figures/flips.png\",dpi=199)"
   ]
  },
  {
   "cell_type": "code",
   "execution_count": null,
   "metadata": {},
   "outputs": [],
   "source": [
    "series = simulation_table[simulation_table[:,1]==0.0,:]\n",
    "plt.loglog(series[:,0], series[:,3], label='eta = 0')\n",
    "\n",
    "series = simulation_table[simulation_table[:,1]==1.0,:]\n",
    "plt.loglog(series[:,0], series[:,3], label='eta = 1')\n",
    "\n",
    "series = simulation_table[simulation_table[:,1]==2.0,:]\n",
    "plt.loglog(series[:,0], series[:,3], label='eta = 2')\n",
    "\n",
    "series = simulation_table[simulation_table[:,1]==3.0,:]\n",
    "plt.loglog(series[:,0], series[:,3], label='eta = 3')\n",
    "\n",
    "series = simulation_table[simulation_table[:,1]==4.0,:]\n",
    "plt.loglog(series[:,0], series[:,3], label='eta = 4')\n",
    "\n",
    "plt.legend()\n",
    "\n",
    "plt.xlabel(\"dimension\")\n",
    "plt.ylabel(\"L2 norm of variance error\")\n",
    "plt.title(\"Error in marginal variance\")\n",
    "plt.savefig(\"figures/error_var.png\",dpi=199)"
   ]
  },
  {
   "cell_type": "code",
   "execution_count": null,
   "metadata": {},
   "outputs": [],
   "source": [
    "series = simulation_table[simulation_table[:,1]==0.0,:]\n",
    "plt.loglog(series[:,0], series[:,2], label='eta = 0')\n",
    "\n",
    "series = simulation_table[simulation_table[:,1]==1.0,:]\n",
    "plt.loglog(series[:,0], series[:,2], label='eta = 1')\n",
    "\n",
    "series = simulation_table[simulation_table[:,1]==2.0,:]\n",
    "plt.loglog(series[:,0], series[:,2], label='eta = 2')\n",
    "\n",
    "series = simulation_table[simulation_table[:,1]==3.0,:]\n",
    "plt.loglog(series[:,0], series[:,2], label='eta = 3')\n",
    "\n",
    "series = simulation_table[simulation_table[:,1]==4.0,:]\n",
    "plt.loglog(series[:,0], series[:,2], label='eta = 4')\n",
    "\n",
    "plt.legend()\n",
    "\n",
    "plt.xlabel(\"dimension\")\n",
    "plt.ylabel(\"L2 norm of mean error\")\n",
    "plt.title(\"Error in marginal mean\")\n",
    "plt.savefig(\"figures/error_mean.png\",dpi=199)"
   ]
  },
  {
   "cell_type": "markdown",
   "metadata": {},
   "source": [
    "# Brownian bridge example"
   ]
  },
  {
   "cell_type": "code",
   "execution_count": 103,
   "metadata": {},
   "outputs": [],
   "source": [
    "R = 1.0\n",
    "N = 10**1\n",
    "\n",
    "mesh = np.linspace(0, R, N, endpoint=False)[1:]\n",
    "\n",
    "BBcov = np.zeros((len(mesh), len(mesh)))\n",
    "\n",
    "for i in range(len(mesh)):\n",
    "    for j in range(len(mesh)):\n",
    "        BBcov[i, j] = np.minimum(mesh[i]/R, mesh[j]/R) - mesh[i]*mesh[j]/(R*R)"
   ]
  },
  {
   "cell_type": "code",
   "execution_count": 325,
   "metadata": {},
   "outputs": [],
   "source": [
    "data = np.random.multivariate_normal(np.zeros_like(mesh), BBcov, size=1000)"
   ]
  },
  {
   "cell_type": "code",
   "execution_count": 326,
   "metadata": {},
   "outputs": [
    {
     "data": {
      "text/plain": [
       "[<matplotlib.lines.Line2D at 0x1304274e0>]"
      ]
     },
     "execution_count": 326,
     "metadata": {},
     "output_type": "execute_result"
    },
    {
     "data": {
      "image/png": "[encoded data removed]",
      "text/plain": [
       "<Figure size 432x288 with 1 Axes>"
      ]
     },
     "metadata": {},
     "output_type": "display_data"
    }
   ],
   "source": [
    "plt.plot(np.var(data,0))"
   ]
  },
  {
   "cell_type": "code",
   "execution_count": 312,
   "metadata": {},
   "outputs": [
    {
     "data": {
      "image/png": "[encoded data removed]",
      "text/plain": [
       "<Figure size 432x288 with 1 Axes>"
      ]
     },
     "metadata": {},
     "output_type": "display_data"
    }
   ],
   "source": [
    "for i in range(data.shape[0]):\n",
    "    plt.plot(mesh, data[i,:], color='cornflowerblue', alpha=1.0)"
   ]
  },
  {
   "cell_type": "code",
   "execution_count": 318,
   "metadata": {},
   "outputs": [
    {
     "data": {
      "text/plain": [
       "[<matplotlib.lines.Line2D at 0x12d2666a0>]"
      ]
     },
     "execution_count": 318,
     "metadata": {},
     "output_type": "execute_result"
    },
    {
     "data": {
      "image/png": "[encoded data removed]",
      "text/plain": [
       "<Figure size 432x288 with 1 Axes>"
      ]
     },
     "metadata": {},
     "output_type": "display_data"
    }
   ],
   "source": [
    "plt.plot(np.diag(BBcov))"
   ]
  },
  {
   "cell_type": "code",
   "execution_count": 129,
   "metadata": {},
   "outputs": [],
   "source": [
    "def next_refresh_time(lambda_refresh, Z):\n",
    "    return Z/lambda_refresh\n",
    "\n",
    "def next_bounce_time_gaussian(x, v, C, Z):\n",
    "    A = v @ lin.solve(C , x)\n",
    "    B = v @ lin.solve(C , v)\n",
    "    T0 = np.maximum(0.0, -A/B)\n",
    "        \n",
    "    tau = (-A + np.sqrt(A*A + 2*A*B*T0 + B*B*T0*T0 + 2*B*Z))/B\n",
    "    \n",
    "    return tau\n",
    "\n",
    "def refresh_velocity_generalised(P):\n",
    "    return np.random.multivariate_normal(np.zeros(P.shape[0]), P)\n",
    "\n",
    "def bounce_generalised_test(v, x, P, Cinv):\n",
    "    z = Cinv @ x\n",
    "    A = np.dot(v, z)\n",
    "    B = np.dot(z, P @ z)\n",
    "    return v - 2.0*(A/B)* (P @ z)\n",
    "\n",
    "def bounce_generalised(v, x, P, C):\n",
    "    \n",
    "   # z = Cinv @ x\n",
    "    z = lin.solve(C, x)\n",
    "    A = np.dot(v, z)\n",
    "    B = np.dot(z, P @ z)\n",
    "    return v - 2.0*(A/B)* (P @ z)\n",
    "\n",
    "\n",
    "def bps_generalised(C, x0, v0, lambda_refresh, eta, T, num_samples):\n",
    "    d = x0.shape[0]\n",
    "    P = lin.fractional_matrix_power(C, eta)\n",
    "    \n",
    "    sample_mesh  = np.linspace(0, T, num_samples)\n",
    "\n",
    "    t = 0.0\n",
    "\n",
    "    refresh_count = 0\n",
    "    reflect_count = 0\n",
    "    \n",
    "    x_sample = np.zeros((len(sample_mesh), d))\n",
    "    v_sample = np.zeros((len(sample_mesh), d))\n",
    "    t_sample = np.zeros(len(sample_mesh))\n",
    "    num_reflect = np.zeros(len(sample_mesh))\n",
    "    num_refresh = np.zeros(len(sample_mesh))\n",
    "\n",
    "    erg_av  = 0.0\n",
    "    erg_var = 0.0\n",
    "\n",
    "    sample_index = 0\n",
    "    \n",
    "    x = x0\n",
    "    v = v0\n",
    "\n",
    "    #progress bar code\n",
    "    pbar = tqdm(total=num_samples)\n",
    "\n",
    "    while (t < T):   \n",
    "        tau_bounce = next_bounce_time_gaussian(x, v, C, -np.log(np.random.rand()))\n",
    "        tau_refresh = next_refresh_time(lambda_refresh, -np.log(np.random.rand()))\n",
    "\n",
    "        tau_min = np.minimum(tau_bounce, tau_refresh)\n",
    "        \n",
    "        #Generate the ergodic averages\n",
    "        erg_av = erg_av + x*tau_min + 0.5*v*tau_min**2\n",
    "        erg_var = erg_var +  x*x*tau_min + v*x*tau_min**2 + (1.0/3)*v*v*tau_min**3\n",
    "        \n",
    "        \n",
    "        #Generate the regular sample of x, v, t along the trajectory\n",
    "        while ((sample_index < num_samples) and (t + tau_min > sample_mesh[sample_index])):\n",
    "\n",
    "            #print(\"%d : %2.12f, %2.12f\"%(sample_index, t, tau_min))\n",
    "            x_sample[sample_index,:] = x + (sample_mesh[sample_index] - t)*v\n",
    "            v_sample[sample_index, :] = v\n",
    "            t_sample[sample_index] = t\n",
    "            \n",
    "            num_reflect[sample_index] = reflect_count\n",
    "            num_refresh[sample_index] = refresh_count\n",
    "            \n",
    "            reflect_count = 0\n",
    "            refresh_count = 0\n",
    "            sample_index = sample_index + 1\n",
    "            \n",
    "            pbar.update(1)\n",
    "            \n",
    "        #Store switching information\n",
    "\n",
    "        t = t + tau_min\n",
    "        x = x + tau_min*v\n",
    "\n",
    "        if (tau_bounce < tau_refresh):\n",
    "            v = bounce_generalised(v, x, P, C)\n",
    "            reflect_count = reflect_count + 1\n",
    "        else:\n",
    "            v = refresh_velocity_generalised(P)\n",
    "            refresh_count = refresh_count + 1\n",
    "        \n",
    "    erg_av = erg_av/t\n",
    "    erg_var = erg_var/t - (erg_av)**2\n",
    "    \n",
    "    return(erg_av, erg_var, x_sample, v_sample, t_sample, num_reflect, num_refresh)"
   ]
  },
  {
   "cell_type": "code",
   "execution_count": 234,
   "metadata": {},
   "outputs": [
    {
     "data": {
      "application/vnd.jupyter.widget-view+json": {
       "model_id": "3a6ab5bbc176481cb6bba78c03ac6527",
       "version_major": 2,
       "version_minor": 0
      },
      "text/html": [
       "<p>Failed to display Jupyter Widget of type <code>HBox</code>.</p>\n",
       "<p>\n",
       "  If you're reading this message in the Jupyter Notebook or JupyterLab Notebook, it may mean\n",
       "  that the widgets JavaScript is still loading. If this message persists, it\n",
       "  likely means that the widgets JavaScript library is either not installed or\n",
       "  not enabled. See the <a href=\"https://ipywidgets.readthedocs.io/en/stable/user_install.html\">Jupyter\n",
       "  Widgets Documentation</a> for setup instructions.\n",
       "</p>\n",
       "<p>\n",
       "  If you're reading this message in another frontend (for example, a static\n",
       "  rendering on GitHub or <a href=\"https://nbviewer.jupyter.org/\">NBViewer</a>),\n",
       "  it may mean that your frontend doesn't currently support widgets.\n",
       "</p>\n"
      ],
      "text/plain": [
       "HBox(children=(IntProgress(value=0, max=10000000), HTML(value='')))"
      ]
     },
     "metadata": {},
     "output_type": "display_data"
    }
   ],
   "source": [
    "C = BBcov[:]\n",
    "x0 = np.zeros(C.shape[0])\n",
    "v0 = np.ones(C.shape[0])\n",
    "\n",
    "T = 1000000.0\n",
    "\n",
    "lambda_refresh = 0.1\n",
    "eta=5.0\n",
    "num_samples = int(T/1e-1)\n",
    "\n",
    "erg_av, erg_var, x_sample, v_sample, t_sample, num_reflect, num_refresh = bps_generalised(C, x0, v0, lambda_refresh, eta, T, num_samples)\n"
   ]
  },
  {
   "cell_type": "markdown",
   "metadata": {},
   "source": [
    "## Non Gaussian example:\n",
    "\n",
    "We consider the case where :  \n",
    "$$\n",
    "    U(x)= \\int_0^1 F(x(\\tau))\\,d\\tau,\n",
    "$$\n",
    "where $F(x) = \\frac{1}{2}(x^2-1)^2$.   Then\n",
    "$$\n",
    "    \\langle v, \\partial_x U(x)\\rangle = \\int_0^1 F'(x(\\tau))v(\\tau)\\,d\\tau,\n",
    "$$\n",
    "where $F(x) = 2x^3 - 2x$.  Then we have that\n",
    "$$\n",
    "    \\lambda(x, w) = \\langle w, \\partial_x U(x) + C^{-1}x \\rangle.\n",
    "$$\n",
    "\n",
    "Consider\n",
    "$$\n",
    "\\langle w, \\partial_x U(x + wt)\\rangle_+ \\leq 2 |w\\cdot x^3-w\\cdot x|+ t|6w\\cdot w x^2-2w\\cdot w| + 6t^2 |w\\cdot w^2 x| + 2t^3|w\\cdot w^3|\n",
    "$$\n",
    "Then \n",
    "$$\n",
    "s(T) \\leq  \\frac{1}{2}T^4|w\\cdot w^3| + 2T^3 |w\\cdot w^2 x|+ T^2(|3w\\cdot w x^2  - w\\cdot w|) +  2T (|w\\cdot  x^3 - w\\cdot x|)  $$"
   ]
  },
  {
   "cell_type": "code",
   "execution_count": 20,
   "metadata": {},
   "outputs": [],
   "source": [
    "def next_refresh_time(lambda_refresh, Z):\n",
    "    return Z/lambda_refresh\n",
    "\n",
    "def next_bounce_time_gaussian(x, v, C, Z):\n",
    "    A = v @ lin.solve(C , x)\n",
    "    B = v @ lin.solve(C , v)\n",
    "    T0 = np.maximum(0.0, -A/B)\n",
    "        \n",
    "    tau = (-A + np.sqrt(A*A + 2*A*B*T0 + B*B*T0*T0 + 2*B*Z))/B\n",
    "    \n",
    "    return tau\n",
    "\n",
    "def intensity_non_gaussian(x, v, tau, dx):\n",
    "    return max(0.0, 2.0*np.dot(v, (x+ tau*v)**3 - (x+ tau*v))*dx)\n",
    "\n",
    "def dominating_intensity_non_gaussian(x, v, tau, dx):\n",
    "    T4 = np.dot(v, 2.0*v**3)*dx\n",
    "    T3 = np.dot(v, 6.0*v**2 * x)*dx\n",
    "    T2 = np.dot(v, 6.0*v * x**2 - 2.0*v)*dx\n",
    "    T1 = 2.0*np.dot(v, x**3 - x)*dx\n",
    "    \n",
    "    return np.abs(T1) + tau*np.abs(T2) + tau*tau*np.abs(T3) + tau*tau*tau*np.abs(T4)\n",
    "\n",
    "\n",
    "def next_bounce_time_non_gaussian(x, v, Z, dx):\n",
    "    #Assemble coefficients.\n",
    "    \n",
    "    #Order 4 term\n",
    "    T4 = 0.5*np.dot(v, v**3)\n",
    "    T3 = 2.0*np.dot(v, v**2 * x)\n",
    "    T2 = 3.0*np.dot(v, v * x**2) - np.dot(v, v)\n",
    "    T1 = 2.0*np.dot(v, x**3 - x)\n",
    "    \n",
    "    p = [np.abs(T4)*dx, np.abs(T3)*dx, np.abs(T2)*dx, np.abs(T1)*dx, -Z]\n",
    "    \n",
    "    rts = np.roots(p)\n",
    "    \n",
    "    tau = np.real(rts[3])\n",
    "    if (tau < 0):\n",
    "        return np.inf\n",
    "    else:\n",
    "        return tau\n",
    "        \n",
    "def refresh_velocity_generalised(P):\n",
    "    return np.random.multivariate_normal(np.zeros(P.shape[0]), P)\n",
    "\n",
    "def bounce_generalised_nongaussian(v, x, P, C, dx):\n",
    "    \n",
    "    z = lin.solve(C, x) + 2.0*(x**3-x)*dx\n",
    "    A = np.dot(v, z)\n",
    "    B = np.dot(z, P @ z)\n",
    "    return v - 2.0*(A/B)* (P @ z)\n",
    "\n",
    "\n",
    "def bps_non_gaussian(C, x0, v0, lambda_refresh, eta, T, num_samples, dx):\n",
    "    d = x0.shape[0]\n",
    "    P = lin.fractional_matrix_power(C, eta)\n",
    "    \n",
    "    sample_mesh  = np.linspace(0, T, num_samples)\n",
    "\n",
    "    t = 0.0\n",
    "\n",
    "    refresh_count = 0\n",
    "    reflect_count = 0\n",
    "    \n",
    "    x_sample = np.zeros((len(sample_mesh), d))\n",
    "    v_sample = np.zeros((len(sample_mesh), d))\n",
    "    t_sample = np.zeros(len(sample_mesh))\n",
    "    num_reflect = np.zeros(len(sample_mesh))\n",
    "    num_refresh = np.zeros(len(sample_mesh))\n",
    "\n",
    "    erg_av  = 0.0\n",
    "    erg_var = 0.0\n",
    "\n",
    "    sample_index = 0\n",
    "    \n",
    "    x = x0\n",
    "    v = v0\n",
    "  \n",
    "    #progress bar code\n",
    "    pbar = tqdm(total=num_samples)\n",
    "\n",
    "    while (t < T):   \n",
    "        \n",
    "        tau_non_gaussian_bounce = next_bounce_time_non_gaussian(x, v, -np.log(np.random.rand()), dx)\n",
    "        tau_gaussian_bounce = next_bounce_time_gaussian(x, v, C, -np.log(np.random.rand()))\n",
    "        tau_refresh = next_refresh_time(lambda_refresh, -np.log(np.random.rand()))\n",
    "                \n",
    "        tau_min = min(tau_gaussian_bounce, tau_refresh, tau_non_gaussian_bounce)\n",
    "     #   print(tau_non_gaussian_bounce, tau_gaussian_bounce, tau_refresh, tau_min)\n",
    "\n",
    "        \n",
    "        #Generate the ergodic averages\n",
    "        erg_av = erg_av + x*tau_min + 0.5*v*tau_min**2\n",
    "        erg_var = erg_var +  x*x*tau_min + v*x*tau_min**2 + (1.0/3)*v*v*tau_min**3\n",
    "        \n",
    "        \n",
    "        #Generate the regular sample of x, v, t along the trajectory\n",
    "        while ((sample_index < num_samples) and (t + tau_min > sample_mesh[sample_index])):\n",
    "\n",
    "            #print(\"%d : %2.12f, %2.12f\"%(sample_index, t, tau_min))\n",
    "            x_sample[sample_index,:] = x + (sample_mesh[sample_index] - t)*v\n",
    "            v_sample[sample_index, :] = v\n",
    "            t_sample[sample_index] = t\n",
    "            \n",
    "            num_reflect[sample_index] = reflect_count\n",
    "            num_refresh[sample_index] = refresh_count\n",
    "            \n",
    "            reflect_count = 0\n",
    "            refresh_count = 0\n",
    "            sample_index = sample_index + 1\n",
    "            pbar.update(1)\n",
    "            \n",
    "        #Store switching information\n",
    "\n",
    "        index_min = np.argmin(np.array([tau_non_gaussian_bounce, tau_gaussian_bounce, tau_refresh]))\n",
    "        \n",
    "        if (index_min == 0):\n",
    "            m = intensity_non_gaussian(x, v, tau_min, dx)\n",
    "            \n",
    "            #test with fd\n",
    "            M = dominating_intensity_non_gaussian(x, v, tau_min, dx)\n",
    "            v_new = v[:]\n",
    "            \n",
    "            r = np.random.rand()\n",
    "            if (r < m/M):\n",
    "                v_new = bounce_generalised_nongaussian(v, x + tau_min*v, P, C, dx)\n",
    "                reflect_count = reflect_count + 1\n",
    "        elif (index_min == 1):\n",
    "            v_new = bounce_generalised_nongaussian(v, x + tau_min*v, P, C, dx)\n",
    "            reflect_count = reflect_count + 1\n",
    "        else:\n",
    "            v_new = refresh_velocity_generalised(P)\n",
    "            refresh_count = refresh_count + 1\n",
    "            \n",
    "        t = t + tau_min\n",
    "        x = x + tau_min*v\n",
    "        \n",
    "        v = v_new[:]\n",
    "        \n",
    "   #     print(t)\n",
    "\n",
    "        \n",
    "    erg_av = erg_av/t\n",
    "    erg_var = erg_var/t - (erg_av)**2\n",
    "    \n",
    "    return(erg_av, erg_var, x_sample, v_sample, t_sample, num_reflect, num_refresh)"
   ]
  },
  {
   "cell_type": "code",
   "execution_count": 21,
   "metadata": {},
   "outputs": [],
   "source": [
    "# #This is a nice test for the bounce operator\n",
    "\n",
    "# C = BBcov[:]\n",
    "# x0 = np.random.randn(C.shape[0])\n",
    "# v0 = np.random.randn(C.shape[0])\n",
    "\n",
    "# eta=3.0\n",
    "# P = lin.fractional_matrix_power(C, eta)\n",
    "# M = 10000\n",
    "\n",
    "# x0 = np.random.randn(C.shape[0])\n",
    "\n",
    "# v_post = np.zeros((M, P.shape[0]))\n",
    "# for m in range(M):\n",
    "#     v = np.random.multivariate_normal(np.zeros(P.shape[0]), P)\n",
    "#     v_post[m,:] = bounce_generalised(v, x0, P, C)\n",
    "    \n",
    "# plt.plot(np.diag(np.cov(v_post.T)))\n",
    "# plt.plot(np.diag(P), '--')"
   ]
  },
  {
   "cell_type": "code",
   "execution_count": 32,
   "metadata": {},
   "outputs": [],
   "source": [
    "def compute_errors(erg_av, erg_var,x_sample, C, dx):\n",
    "    Cinv=lin.inv(C)\n",
    "    av_err = np.linalg.norm(erg_av)\n",
    "    cv_err = np.mean(np.abs(np.mean((Cinv@x_sample.T + 2.0*dx*((x_sample.T)**3 - x_sample.T)).T,0)))\n",
    "    \n",
    "    return (av_err, cv_err)\n",
    "    \n",
    "def run_experiment_ng(N, eta, burnin, fname):\n",
    "    \n",
    "    lambda_refresh = 1.0\n",
    "    R = 1.0\n",
    "    dx = R/N\n",
    "    \n",
    "    mesh = np.linspace(0, R, N, endpoint=False)[1:]\n",
    "    BBcov = np.zeros((len(mesh), len(mesh)))\n",
    "    \n",
    "    for i in range(len(mesh)):\n",
    "        for j in range(len(mesh)):\n",
    "            BBcov[i, j] = np.minimum(mesh[i]/R, mesh[j]/R) - mesh[i]*mesh[j]/(R*R)\n",
    "\n",
    "\n",
    "    C = BBcov\n",
    "    x0 = np.random.randn(C.shape[0])\n",
    "    v0 = np.random.randn(C.shape[0])\n",
    "\n",
    "    \n",
    "    T = 100000.0\n",
    "    num_samples = int(T)\n",
    "\n",
    "    erg_av, erg_var, x_sample, v_sample, t_sample, num_reflect, num_refresh = bps_non_gaussian(C, x0, v0, lambda_refresh, eta, T, num_samples, dx)\n",
    "    av_err,cv_err = compute_errors(erg_av, erg_var,x_sample, C, dx)\n",
    "        \n",
    "    print(x_sample.shape)\n",
    "    x_sample=x_sample[burnin:,:]\n",
    "    num_reflect= num_reflect[burnin:]\n",
    "    \n",
    "    plt.subplot(2,2,1)\n",
    "    plt.plot(np.cumsum(x_sample[:,0])/np.arange(1, 1+ x_sample.shape[0]))\n",
    "\n",
    "    plt.subplot(2,2,2)\n",
    "    plt.plot(np.cumsum(num_reflect)/np.arange(1, 1+ len(num_reflect)))\n",
    "\n",
    "    plt.subplot(2,2,3)\n",
    "    plt.plot(st.acf(x_sample[:,0],unbiased=True))\n",
    "\n",
    "    plt.suptitle(\"d = %d, eta = %1.2f, av_err = %f, cv_err = %f\"%(N, eta, av_err, cv_err))\n",
    "    plt.tight_layout()\n",
    "    plt.savefig(fname+\".png\",dpi=199)\n",
    "    \n",
    "    np.savetxt(fname+\".txt\", (N, eta, av_err, cv_err, np.mean(num_reflect)))\n",
    "    \n",
    "    \n",
    "    plt.clf()"
   ]
  },
  {
   "cell_type": "code",
   "execution_count": 33,
   "metadata": {},
   "outputs": [
    {
     "data": {
      "application/vnd.jupyter.widget-view+json": {
       "model_id": "33faaa93d2864c6eae6c682a47ae04de",
       "version_major": 2,
       "version_minor": 0
      },
      "text/html": [
       "<p>Failed to display Jupyter Widget of type <code>HBox</code>.</p>\n",
       "<p>\n",
       "  If you're reading this message in the Jupyter Notebook or JupyterLab Notebook, it may mean\n",
       "  that the widgets JavaScript is still loading. If this message persists, it\n",
       "  likely means that the widgets JavaScript library is either not installed or\n",
       "  not enabled. See the <a href=\"https://ipywidgets.readthedocs.io/en/stable/user_install.html\">Jupyter\n",
       "  Widgets Documentation</a> for setup instructions.\n",
       "</p>\n",
       "<p>\n",
       "  If you're reading this message in another frontend (for example, a static\n",
       "  rendering on GitHub or <a href=\"https://nbviewer.jupyter.org/\">NBViewer</a>),\n",
       "  it may mean that your frontend doesn't currently support widgets.\n",
       "</p>\n"
      ],
      "text/plain": [
       "HBox(children=(IntProgress(value=0, max=100000), HTML(value='')))"
      ]
     },
     "metadata": {},
     "output_type": "display_data"
    },
    {
     "name": "stdout",
     "output_type": "stream",
     "text": [
      "\n",
      "(100000, 19)\n"
     ]
    },
    {
     "data": {
      "application/vnd.jupyter.widget-view+json": {
       "model_id": "13127a3f55d446ba8245b46b0bd406b9",
       "version_major": 2,
       "version_minor": 0
      },
      "text/html": [
       "<p>Failed to display Jupyter Widget of type <code>HBox</code>.</p>\n",
       "<p>\n",
       "  If you're reading this message in the Jupyter Notebook or JupyterLab Notebook, it may mean\n",
       "  that the widgets JavaScript is still loading. If this message persists, it\n",
       "  likely means that the widgets JavaScript library is either not installed or\n",
       "  not enabled. See the <a href=\"https://ipywidgets.readthedocs.io/en/stable/user_install.html\">Jupyter\n",
       "  Widgets Documentation</a> for setup instructions.\n",
       "</p>\n",
       "<p>\n",
       "  If you're reading this message in another frontend (for example, a static\n",
       "  rendering on GitHub or <a href=\"https://nbviewer.jupyter.org/\">NBViewer</a>),\n",
       "  it may mean that your frontend doesn't currently support widgets.\n",
       "</p>\n"
      ],
      "text/plain": [
       "HBox(children=(IntProgress(value=0, max=100000), HTML(value='')))"
      ]
     },
     "metadata": {},
     "output_type": "display_data"
    },
    {
     "name": "stdout",
     "output_type": "stream",
     "text": [
      "\n",
      "(100000, 19)\n"
     ]
    },
    {
     "data": {
      "application/vnd.jupyter.widget-view+json": {
       "model_id": "b050a85d76ff43bda572b46d509491fc",
       "version_major": 2,
       "version_minor": 0
      },
      "text/html": [
       "<p>Failed to display Jupyter Widget of type <code>HBox</code>.</p>\n",
       "<p>\n",
       "  If you're reading this message in the Jupyter Notebook or JupyterLab Notebook, it may mean\n",
       "  that the widgets JavaScript is still loading. If this message persists, it\n",
       "  likely means that the widgets JavaScript library is either not installed or\n",
       "  not enabled. See the <a href=\"https://ipywidgets.readthedocs.io/en/stable/user_install.html\">Jupyter\n",
       "  Widgets Documentation</a> for setup instructions.\n",
       "</p>\n",
       "<p>\n",
       "  If you're reading this message in another frontend (for example, a static\n",
       "  rendering on GitHub or <a href=\"https://nbviewer.jupyter.org/\">NBViewer</a>),\n",
       "  it may mean that your frontend doesn't currently support widgets.\n",
       "</p>\n"
      ],
      "text/plain": [
       "HBox(children=(IntProgress(value=0, max=100000), HTML(value='')))"
      ]
     },
     "metadata": {},
     "output_type": "display_data"
    },
    {
     "name": "stdout",
     "output_type": "stream",
     "text": [
      "\n",
      "(100000, 19)\n"
     ]
    },
    {
     "data": {
      "application/vnd.jupyter.widget-view+json": {
       "model_id": "8b5cff4112484f96a7d97120d9598a47",
       "version_major": 2,
       "version_minor": 0
      },
      "text/html": [
       "<p>Failed to display Jupyter Widget of type <code>HBox</code>.</p>\n",
       "<p>\n",
       "  If you're reading this message in the Jupyter Notebook or JupyterLab Notebook, it may mean\n",
       "  that the widgets JavaScript is still loading. If this message persists, it\n",
       "  likely means that the widgets JavaScript library is either not installed or\n",
       "  not enabled. See the <a href=\"https://ipywidgets.readthedocs.io/en/stable/user_install.html\">Jupyter\n",
       "  Widgets Documentation</a> for setup instructions.\n",
       "</p>\n",
       "<p>\n",
       "  If you're reading this message in another frontend (for example, a static\n",
       "  rendering on GitHub or <a href=\"https://nbviewer.jupyter.org/\">NBViewer</a>),\n",
       "  it may mean that your frontend doesn't currently support widgets.\n",
       "</p>\n"
      ],
      "text/plain": [
       "HBox(children=(IntProgress(value=0, max=100000), HTML(value='')))"
      ]
     },
     "metadata": {},
     "output_type": "display_data"
    },
    {
     "name": "stdout",
     "output_type": "stream",
     "text": [
      "\n",
      "(100000, 19)\n"
     ]
    },
    {
     "data": {
      "application/vnd.jupyter.widget-view+json": {
       "model_id": "ccbdbb939e83464695163c463dedda19",
       "version_major": 2,
       "version_minor": 0
      },
      "text/html": [
       "<p>Failed to display Jupyter Widget of type <code>HBox</code>.</p>\n",
       "<p>\n",
       "  If you're reading this message in the Jupyter Notebook or JupyterLab Notebook, it may mean\n",
       "  that the widgets JavaScript is still loading. If this message persists, it\n",
       "  likely means that the widgets JavaScript library is either not installed or\n",
       "  not enabled. See the <a href=\"https://ipywidgets.readthedocs.io/en/stable/user_install.html\">Jupyter\n",
       "  Widgets Documentation</a> for setup instructions.\n",
       "</p>\n",
       "<p>\n",
       "  If you're reading this message in another frontend (for example, a static\n",
       "  rendering on GitHub or <a href=\"https://nbviewer.jupyter.org/\">NBViewer</a>),\n",
       "  it may mean that your frontend doesn't currently support widgets.\n",
       "</p>\n"
      ],
      "text/plain": [
       "HBox(children=(IntProgress(value=0, max=100000), HTML(value='')))"
      ]
     },
     "metadata": {},
     "output_type": "display_data"
    },
    {
     "name": "stdout",
     "output_type": "stream",
     "text": [
      "\n",
      "(100000, 19)\n"
     ]
    },
    {
     "data": {
      "application/vnd.jupyter.widget-view+json": {
       "model_id": "5d79da9c98b54523816054c99359d88f",
       "version_major": 2,
       "version_minor": 0
      },
      "text/html": [
       "<p>Failed to display Jupyter Widget of type <code>HBox</code>.</p>\n",
       "<p>\n",
       "  If you're reading this message in the Jupyter Notebook or JupyterLab Notebook, it may mean\n",
       "  that the widgets JavaScript is still loading. If this message persists, it\n",
       "  likely means that the widgets JavaScript library is either not installed or\n",
       "  not enabled. See the <a href=\"https://ipywidgets.readthedocs.io/en/stable/user_install.html\">Jupyter\n",
       "  Widgets Documentation</a> for setup instructions.\n",
       "</p>\n",
       "<p>\n",
       "  If you're reading this message in another frontend (for example, a static\n",
       "  rendering on GitHub or <a href=\"https://nbviewer.jupyter.org/\">NBViewer</a>),\n",
       "  it may mean that your frontend doesn't currently support widgets.\n",
       "</p>\n"
      ],
      "text/plain": [
       "HBox(children=(IntProgress(value=0, max=100000), HTML(value='')))"
      ]
     },
     "metadata": {},
     "output_type": "display_data"
    },
    {
     "name": "stdout",
     "output_type": "stream",
     "text": [
      "\n",
      "(100000, 39)\n"
     ]
    },
    {
     "data": {
      "application/vnd.jupyter.widget-view+json": {
       "model_id": "aeee96286ef3479a8e4647171e53ad31",
       "version_major": 2,
       "version_minor": 0
      },
      "text/html": [
       "<p>Failed to display Jupyter Widget of type <code>HBox</code>.</p>\n",
       "<p>\n",
       "  If you're reading this message in the Jupyter Notebook or JupyterLab Notebook, it may mean\n",
       "  that the widgets JavaScript is still loading. If this message persists, it\n",
       "  likely means that the widgets JavaScript library is either not installed or\n",
       "  not enabled. See the <a href=\"https://ipywidgets.readthedocs.io/en/stable/user_install.html\">Jupyter\n",
       "  Widgets Documentation</a> for setup instructions.\n",
       "</p>\n",
       "<p>\n",
       "  If you're reading this message in another frontend (for example, a static\n",
       "  rendering on GitHub or <a href=\"https://nbviewer.jupyter.org/\">NBViewer</a>),\n",
       "  it may mean that your frontend doesn't currently support widgets.\n",
       "</p>\n"
      ],
      "text/plain": [
       "HBox(children=(IntProgress(value=0, max=100000), HTML(value='')))"
      ]
     },
     "metadata": {},
     "output_type": "display_data"
    },
    {
     "name": "stdout",
     "output_type": "stream",
     "text": [
      "\n",
      "(100000, 39)\n"
     ]
    },
    {
     "data": {
      "application/vnd.jupyter.widget-view+json": {
       "model_id": "7037116268904d138c7a9bf7ee00e84e",
       "version_major": 2,
       "version_minor": 0
      },
      "text/html": [
       "<p>Failed to display Jupyter Widget of type <code>HBox</code>.</p>\n",
       "<p>\n",
       "  If you're reading this message in the Jupyter Notebook or JupyterLab Notebook, it may mean\n",
       "  that the widgets JavaScript is still loading. If this message persists, it\n",
       "  likely means that the widgets JavaScript library is either not installed or\n",
       "  not enabled. See the <a href=\"https://ipywidgets.readthedocs.io/en/stable/user_install.html\">Jupyter\n",
       "  Widgets Documentation</a> for setup instructions.\n",
       "</p>\n",
       "<p>\n",
       "  If you're reading this message in another frontend (for example, a static\n",
       "  rendering on GitHub or <a href=\"https://nbviewer.jupyter.org/\">NBViewer</a>),\n",
       "  it may mean that your frontend doesn't currently support widgets.\n",
       "</p>\n"
      ],
      "text/plain": [
       "HBox(children=(IntProgress(value=0, max=100000), HTML(value='')))"
      ]
     },
     "metadata": {},
     "output_type": "display_data"
    },
    {
     "name": "stdout",
     "output_type": "stream",
     "text": [
      "\n",
      "(100000, 39)\n"
     ]
    },
    {
     "data": {
      "application/vnd.jupyter.widget-view+json": {
       "model_id": "b3280d4c728c4392a3c99a89611cbed9",
       "version_major": 2,
       "version_minor": 0
      },
      "text/html": [
       "<p>Failed to display Jupyter Widget of type <code>HBox</code>.</p>\n",
       "<p>\n",
       "  If you're reading this message in the Jupyter Notebook or JupyterLab Notebook, it may mean\n",
       "  that the widgets JavaScript is still loading. If this message persists, it\n",
       "  likely means that the widgets JavaScript library is either not installed or\n",
       "  not enabled. See the <a href=\"https://ipywidgets.readthedocs.io/en/stable/user_install.html\">Jupyter\n",
       "  Widgets Documentation</a> for setup instructions.\n",
       "</p>\n",
       "<p>\n",
       "  If you're reading this message in another frontend (for example, a static\n",
       "  rendering on GitHub or <a href=\"https://nbviewer.jupyter.org/\">NBViewer</a>),\n",
       "  it may mean that your frontend doesn't currently support widgets.\n",
       "</p>\n"
      ],
      "text/plain": [
       "HBox(children=(IntProgress(value=0, max=100000), HTML(value='')))"
      ]
     },
     "metadata": {},
     "output_type": "display_data"
    },
    {
     "name": "stdout",
     "output_type": "stream",
     "text": [
      "\n",
      "(100000, 39)\n"
     ]
    },
    {
     "data": {
      "application/vnd.jupyter.widget-view+json": {
       "model_id": "824899b785c947269eb55d49333fad57",
       "version_major": 2,
       "version_minor": 0
      },
      "text/html": [
       "<p>Failed to display Jupyter Widget of type <code>HBox</code>.</p>\n",
       "<p>\n",
       "  If you're reading this message in the Jupyter Notebook or JupyterLab Notebook, it may mean\n",
       "  that the widgets JavaScript is still loading. If this message persists, it\n",
       "  likely means that the widgets JavaScript library is either not installed or\n",
       "  not enabled. See the <a href=\"https://ipywidgets.readthedocs.io/en/stable/user_install.html\">Jupyter\n",
       "  Widgets Documentation</a> for setup instructions.\n",
       "</p>\n",
       "<p>\n",
       "  If you're reading this message in another frontend (for example, a static\n",
       "  rendering on GitHub or <a href=\"https://nbviewer.jupyter.org/\">NBViewer</a>),\n",
       "  it may mean that your frontend doesn't currently support widgets.\n",
       "</p>\n"
      ],
      "text/plain": [
       "HBox(children=(IntProgress(value=0, max=100000), HTML(value='')))"
      ]
     },
     "metadata": {},
     "output_type": "display_data"
    },
    {
     "name": "stdout",
     "output_type": "stream",
     "text": [
      "\n",
      "(100000, 39)\n"
     ]
    },
    {
     "data": {
      "application/vnd.jupyter.widget-view+json": {
       "model_id": "6fcee7facea7432d9ee7247ac048f771",
       "version_major": 2,
       "version_minor": 0
      },
      "text/html": [
       "<p>Failed to display Jupyter Widget of type <code>HBox</code>.</p>\n",
       "<p>\n",
       "  If you're reading this message in the Jupyter Notebook or JupyterLab Notebook, it may mean\n",
       "  that the widgets JavaScript is still loading. If this message persists, it\n",
       "  likely means that the widgets JavaScript library is either not installed or\n",
       "  not enabled. See the <a href=\"https://ipywidgets.readthedocs.io/en/stable/user_install.html\">Jupyter\n",
       "  Widgets Documentation</a> for setup instructions.\n",
       "</p>\n",
       "<p>\n",
       "  If you're reading this message in another frontend (for example, a static\n",
       "  rendering on GitHub or <a href=\"https://nbviewer.jupyter.org/\">NBViewer</a>),\n",
       "  it may mean that your frontend doesn't currently support widgets.\n",
       "</p>\n"
      ],
      "text/plain": [
       "HBox(children=(IntProgress(value=0, max=100000), HTML(value='')))"
      ]
     },
     "metadata": {},
     "output_type": "display_data"
    },
    {
     "name": "stdout",
     "output_type": "stream",
     "text": [
      "\n",
      "(100000, 59)\n"
     ]
    },
    {
     "data": {
      "application/vnd.jupyter.widget-view+json": {
       "model_id": "7b1da28e595447bcb7e7687d411854cd",
       "version_major": 2,
       "version_minor": 0
      },
      "text/html": [
       "<p>Failed to display Jupyter Widget of type <code>HBox</code>.</p>\n",
       "<p>\n",
       "  If you're reading this message in the Jupyter Notebook or JupyterLab Notebook, it may mean\n",
       "  that the widgets JavaScript is still loading. If this message persists, it\n",
       "  likely means that the widgets JavaScript library is either not installed or\n",
       "  not enabled. See the <a href=\"https://ipywidgets.readthedocs.io/en/stable/user_install.html\">Jupyter\n",
       "  Widgets Documentation</a> for setup instructions.\n",
       "</p>\n",
       "<p>\n",
       "  If you're reading this message in another frontend (for example, a static\n",
       "  rendering on GitHub or <a href=\"https://nbviewer.jupyter.org/\">NBViewer</a>),\n",
       "  it may mean that your frontend doesn't currently support widgets.\n",
       "</p>\n"
      ],
      "text/plain": [
       "HBox(children=(IntProgress(value=0, max=100000), HTML(value='')))"
      ]
     },
     "metadata": {},
     "output_type": "display_data"
    },
    {
     "name": "stdout",
     "output_type": "stream",
     "text": [
      "\n",
      "(100000, 59)\n"
     ]
    },
    {
     "data": {
      "application/vnd.jupyter.widget-view+json": {
       "model_id": "2a19286d1cd74c509a41b36de9176561",
       "version_major": 2,
       "version_minor": 0
      },
      "text/html": [
       "<p>Failed to display Jupyter Widget of type <code>HBox</code>.</p>\n",
       "<p>\n",
       "  If you're reading this message in the Jupyter Notebook or JupyterLab Notebook, it may mean\n",
       "  that the widgets JavaScript is still loading. If this message persists, it\n",
       "  likely means that the widgets JavaScript library is either not installed or\n",
       "  not enabled. See the <a href=\"https://ipywidgets.readthedocs.io/en/stable/user_install.html\">Jupyter\n",
       "  Widgets Documentation</a> for setup instructions.\n",
       "</p>\n",
       "<p>\n",
       "  If you're reading this message in another frontend (for example, a static\n",
       "  rendering on GitHub or <a href=\"https://nbviewer.jupyter.org/\">NBViewer</a>),\n",
       "  it may mean that your frontend doesn't currently support widgets.\n",
       "</p>\n"
      ],
      "text/plain": [
       "HBox(children=(IntProgress(value=0, max=100000), HTML(value='')))"
      ]
     },
     "metadata": {},
     "output_type": "display_data"
    },
    {
     "name": "stdout",
     "output_type": "stream",
     "text": [
      "\n",
      "(100000, 59)\n"
     ]
    },
    {
     "data": {
      "application/vnd.jupyter.widget-view+json": {
       "model_id": "00a23e2516dc4f12aedc2d903c2d3957",
       "version_major": 2,
       "version_minor": 0
      },
      "text/html": [
       "<p>Failed to display Jupyter Widget of type <code>HBox</code>.</p>\n",
       "<p>\n",
       "  If you're reading this message in the Jupyter Notebook or JupyterLab Notebook, it may mean\n",
       "  that the widgets JavaScript is still loading. If this message persists, it\n",
       "  likely means that the widgets JavaScript library is either not installed or\n",
       "  not enabled. See the <a href=\"https://ipywidgets.readthedocs.io/en/stable/user_install.html\">Jupyter\n",
       "  Widgets Documentation</a> for setup instructions.\n",
       "</p>\n",
       "<p>\n",
       "  If you're reading this message in another frontend (for example, a static\n",
       "  rendering on GitHub or <a href=\"https://nbviewer.jupyter.org/\">NBViewer</a>),\n",
       "  it may mean that your frontend doesn't currently support widgets.\n",
       "</p>\n"
      ],
      "text/plain": [
       "HBox(children=(IntProgress(value=0, max=100000), HTML(value='')))"
      ]
     },
     "metadata": {},
     "output_type": "display_data"
    },
    {
     "name": "stdout",
     "output_type": "stream",
     "text": [
      "\n",
      "(100000, 59)\n"
     ]
    },
    {
     "data": {
      "application/vnd.jupyter.widget-view+json": {
       "model_id": "ac706f900ff3491c9b5ce30bad386a48",
       "version_major": 2,
       "version_minor": 0
      },
      "text/html": [
       "<p>Failed to display Jupyter Widget of type <code>HBox</code>.</p>\n",
       "<p>\n",
       "  If you're reading this message in the Jupyter Notebook or JupyterLab Notebook, it may mean\n",
       "  that the widgets JavaScript is still loading. If this message persists, it\n",
       "  likely means that the widgets JavaScript library is either not installed or\n",
       "  not enabled. See the <a href=\"https://ipywidgets.readthedocs.io/en/stable/user_install.html\">Jupyter\n",
       "  Widgets Documentation</a> for setup instructions.\n",
       "</p>\n",
       "<p>\n",
       "  If you're reading this message in another frontend (for example, a static\n",
       "  rendering on GitHub or <a href=\"https://nbviewer.jupyter.org/\">NBViewer</a>),\n",
       "  it may mean that your frontend doesn't currently support widgets.\n",
       "</p>\n"
      ],
      "text/plain": [
       "HBox(children=(IntProgress(value=0, max=100000), HTML(value='')))"
      ]
     },
     "metadata": {},
     "output_type": "display_data"
    },
    {
     "name": "stdout",
     "output_type": "stream",
     "text": [
      "\n",
      "(100000, 59)\n"
     ]
    },
    {
     "data": {
      "application/vnd.jupyter.widget-view+json": {
       "model_id": "7e1e0a3af29f4d70bbc86fb7c2f1d529",
       "version_major": 2,
       "version_minor": 0
      },
      "text/html": [
       "<p>Failed to display Jupyter Widget of type <code>HBox</code>.</p>\n",
       "<p>\n",
       "  If you're reading this message in the Jupyter Notebook or JupyterLab Notebook, it may mean\n",
       "  that the widgets JavaScript is still loading. If this message persists, it\n",
       "  likely means that the widgets JavaScript library is either not installed or\n",
       "  not enabled. See the <a href=\"https://ipywidgets.readthedocs.io/en/stable/user_install.html\">Jupyter\n",
       "  Widgets Documentation</a> for setup instructions.\n",
       "</p>\n",
       "<p>\n",
       "  If you're reading this message in another frontend (for example, a static\n",
       "  rendering on GitHub or <a href=\"https://nbviewer.jupyter.org/\">NBViewer</a>),\n",
       "  it may mean that your frontend doesn't currently support widgets.\n",
       "</p>\n"
      ],
      "text/plain": [
       "HBox(children=(IntProgress(value=0, max=100000), HTML(value='')))"
      ]
     },
     "metadata": {},
     "output_type": "display_data"
    },
    {
     "name": "stdout",
     "output_type": "stream",
     "text": [
      "\n",
      "(100000, 79)\n"
     ]
    },
    {
     "data": {
      "application/vnd.jupyter.widget-view+json": {
       "model_id": "5bf7d0899fd44b3c89cac736a8282451",
       "version_major": 2,
       "version_minor": 0
      },
      "text/html": [
       "<p>Failed to display Jupyter Widget of type <code>HBox</code>.</p>\n",
       "<p>\n",
       "  If you're reading this message in the Jupyter Notebook or JupyterLab Notebook, it may mean\n",
       "  that the widgets JavaScript is still loading. If this message persists, it\n",
       "  likely means that the widgets JavaScript library is either not installed or\n",
       "  not enabled. See the <a href=\"https://ipywidgets.readthedocs.io/en/stable/user_install.html\">Jupyter\n",
       "  Widgets Documentation</a> for setup instructions.\n",
       "</p>\n",
       "<p>\n",
       "  If you're reading this message in another frontend (for example, a static\n",
       "  rendering on GitHub or <a href=\"https://nbviewer.jupyter.org/\">NBViewer</a>),\n",
       "  it may mean that your frontend doesn't currently support widgets.\n",
       "</p>\n"
      ],
      "text/plain": [
       "HBox(children=(IntProgress(value=0, max=100000), HTML(value='')))"
      ]
     },
     "metadata": {},
     "output_type": "display_data"
    },
    {
     "name": "stdout",
     "output_type": "stream",
     "text": [
      "\n"
     ]
    },
    {
     "ename": "KeyboardInterrupt",
     "evalue": "",
     "output_type": "error",
     "traceback": [
      "\u001b[0;31m---------------------------------------------------------------------------\u001b[0m",
      "\u001b[0;31mKeyboardInterrupt\u001b[0m                         Traceback (most recent call last)",
      "\u001b[0;32m<ipython-input-33-7673e4a31c8a>\u001b[0m in \u001b[0;36m<module>\u001b[0;34m()\u001b[0m\n\u001b[1;32m     18\u001b[0m \u001b[0;34m\u001b[0m\u001b[0m\n\u001b[1;32m     19\u001b[0m \u001b[0mrun_experiment_ng\u001b[0m\u001b[0;34m(\u001b[0m\u001b[0;36m80\u001b[0m\u001b[0;34m,\u001b[0m \u001b[0;36m0.0\u001b[0m\u001b[0;34m,\u001b[0m \u001b[0;36m500\u001b[0m\u001b[0;34m,\u001b[0m \u001b[0;34m\"figures/nd9_0\"\u001b[0m\u001b[0;34m)\u001b[0m\u001b[0;34m;\u001b[0m\u001b[0;34m\u001b[0m\u001b[0m\n\u001b[0;32m---> 20\u001b[0;31m \u001b[0mrun_experiment_ng\u001b[0m\u001b[0;34m(\u001b[0m\u001b[0;36m80\u001b[0m\u001b[0;34m,\u001b[0m \u001b[0;36m1.0\u001b[0m\u001b[0;34m,\u001b[0m \u001b[0;36m500\u001b[0m\u001b[0;34m,\u001b[0m \u001b[0;34m\"figures/nd9_1\"\u001b[0m\u001b[0;34m)\u001b[0m\u001b[0;34m;\u001b[0m\u001b[0;34m\u001b[0m\u001b[0m\n\u001b[0m\u001b[1;32m     21\u001b[0m \u001b[0mrun_experiment_ng\u001b[0m\u001b[0;34m(\u001b[0m\u001b[0;36m80\u001b[0m\u001b[0;34m,\u001b[0m \u001b[0;36m2.0\u001b[0m\u001b[0;34m,\u001b[0m \u001b[0;36m500\u001b[0m\u001b[0;34m,\u001b[0m \u001b[0;34m\"figures/nd9_2\"\u001b[0m\u001b[0;34m)\u001b[0m\u001b[0;34m;\u001b[0m\u001b[0;34m\u001b[0m\u001b[0m\n\u001b[1;32m     22\u001b[0m \u001b[0mrun_experiment_ng\u001b[0m\u001b[0;34m(\u001b[0m\u001b[0;36m80\u001b[0m\u001b[0;34m,\u001b[0m \u001b[0;36m3.0\u001b[0m\u001b[0;34m,\u001b[0m \u001b[0;36m500\u001b[0m\u001b[0;34m,\u001b[0m \u001b[0;34m\"figures/nd9_3\"\u001b[0m\u001b[0;34m)\u001b[0m\u001b[0;34m;\u001b[0m\u001b[0;34m\u001b[0m\u001b[0m\n",
      "\u001b[0;32m<ipython-input-32-1b7067959d79>\u001b[0m in \u001b[0;36mrun_experiment_ng\u001b[0;34m(N, eta, burnin, fname)\u001b[0m\n\u001b[1;32m     28\u001b[0m     \u001b[0mnum_samples\u001b[0m \u001b[0;34m=\u001b[0m \u001b[0mint\u001b[0m\u001b[0;34m(\u001b[0m\u001b[0mT\u001b[0m\u001b[0;34m)\u001b[0m\u001b[0;34m\u001b[0m\u001b[0m\n\u001b[1;32m     29\u001b[0m \u001b[0;34m\u001b[0m\u001b[0m\n\u001b[0;32m---> 30\u001b[0;31m     \u001b[0merg_av\u001b[0m\u001b[0;34m,\u001b[0m \u001b[0merg_var\u001b[0m\u001b[0;34m,\u001b[0m \u001b[0mx_sample\u001b[0m\u001b[0;34m,\u001b[0m \u001b[0mv_sample\u001b[0m\u001b[0;34m,\u001b[0m \u001b[0mt_sample\u001b[0m\u001b[0;34m,\u001b[0m \u001b[0mnum_reflect\u001b[0m\u001b[0;34m,\u001b[0m \u001b[0mnum_refresh\u001b[0m \u001b[0;34m=\u001b[0m \u001b[0mbps_non_gaussian\u001b[0m\u001b[0;34m(\u001b[0m\u001b[0mC\u001b[0m\u001b[0;34m,\u001b[0m \u001b[0mx0\u001b[0m\u001b[0;34m,\u001b[0m \u001b[0mv0\u001b[0m\u001b[0;34m,\u001b[0m \u001b[0mlambda_refresh\u001b[0m\u001b[0;34m,\u001b[0m \u001b[0meta\u001b[0m\u001b[0;34m,\u001b[0m \u001b[0mT\u001b[0m\u001b[0;34m,\u001b[0m \u001b[0mnum_samples\u001b[0m\u001b[0;34m,\u001b[0m \u001b[0mdx\u001b[0m\u001b[0;34m)\u001b[0m\u001b[0;34m\u001b[0m\u001b[0m\n\u001b[0m\u001b[1;32m     31\u001b[0m     \u001b[0mav_err\u001b[0m\u001b[0;34m,\u001b[0m\u001b[0mcv_err\u001b[0m \u001b[0;34m=\u001b[0m \u001b[0mcompute_errors\u001b[0m\u001b[0;34m(\u001b[0m\u001b[0merg_av\u001b[0m\u001b[0;34m,\u001b[0m \u001b[0merg_var\u001b[0m\u001b[0;34m,\u001b[0m\u001b[0mx_sample\u001b[0m\u001b[0;34m,\u001b[0m \u001b[0mC\u001b[0m\u001b[0;34m)\u001b[0m\u001b[0;34m\u001b[0m\u001b[0m\n\u001b[1;32m     32\u001b[0m \u001b[0;34m\u001b[0m\u001b[0m\n",
      "\u001b[0;32m<ipython-input-20-784dbcdc6bf8>\u001b[0m in \u001b[0;36mbps_non_gaussian\u001b[0;34m(C, x0, v0, lambda_refresh, eta, T, num_samples, dx)\u001b[0m\n\u001b[1;32m     84\u001b[0m \u001b[0;34m\u001b[0m\u001b[0m\n\u001b[1;32m     85\u001b[0m         \u001b[0mtau_non_gaussian_bounce\u001b[0m \u001b[0;34m=\u001b[0m \u001b[0mnext_bounce_time_non_gaussian\u001b[0m\u001b[0;34m(\u001b[0m\u001b[0mx\u001b[0m\u001b[0;34m,\u001b[0m \u001b[0mv\u001b[0m\u001b[0;34m,\u001b[0m \u001b[0;34m-\u001b[0m\u001b[0mnp\u001b[0m\u001b[0;34m.\u001b[0m\u001b[0mlog\u001b[0m\u001b[0;34m(\u001b[0m\u001b[0mnp\u001b[0m\u001b[0;34m.\u001b[0m\u001b[0mrandom\u001b[0m\u001b[0;34m.\u001b[0m\u001b[0mrand\u001b[0m\u001b[0;34m(\u001b[0m\u001b[0;34m)\u001b[0m\u001b[0;34m)\u001b[0m\u001b[0;34m,\u001b[0m \u001b[0mdx\u001b[0m\u001b[0;34m)\u001b[0m\u001b[0;34m\u001b[0m\u001b[0m\n\u001b[0;32m---> 86\u001b[0;31m         \u001b[0mtau_gaussian_bounce\u001b[0m \u001b[0;34m=\u001b[0m \u001b[0mnext_bounce_time_gaussian\u001b[0m\u001b[0;34m(\u001b[0m\u001b[0mx\u001b[0m\u001b[0;34m,\u001b[0m \u001b[0mv\u001b[0m\u001b[0;34m,\u001b[0m \u001b[0mC\u001b[0m\u001b[0;34m,\u001b[0m \u001b[0;34m-\u001b[0m\u001b[0mnp\u001b[0m\u001b[0;34m.\u001b[0m\u001b[0mlog\u001b[0m\u001b[0;34m(\u001b[0m\u001b[0mnp\u001b[0m\u001b[0;34m.\u001b[0m\u001b[0mrandom\u001b[0m\u001b[0;34m.\u001b[0m\u001b[0mrand\u001b[0m\u001b[0;34m(\u001b[0m\u001b[0;34m)\u001b[0m\u001b[0;34m)\u001b[0m\u001b[0;34m)\u001b[0m\u001b[0;34m\u001b[0m\u001b[0m\n\u001b[0m\u001b[1;32m     87\u001b[0m         \u001b[0mtau_refresh\u001b[0m \u001b[0;34m=\u001b[0m \u001b[0mnext_refresh_time\u001b[0m\u001b[0;34m(\u001b[0m\u001b[0mlambda_refresh\u001b[0m\u001b[0;34m,\u001b[0m \u001b[0;34m-\u001b[0m\u001b[0mnp\u001b[0m\u001b[0;34m.\u001b[0m\u001b[0mlog\u001b[0m\u001b[0;34m(\u001b[0m\u001b[0mnp\u001b[0m\u001b[0;34m.\u001b[0m\u001b[0mrandom\u001b[0m\u001b[0;34m.\u001b[0m\u001b[0mrand\u001b[0m\u001b[0;34m(\u001b[0m\u001b[0;34m)\u001b[0m\u001b[0;34m)\u001b[0m\u001b[0;34m)\u001b[0m\u001b[0;34m\u001b[0m\u001b[0m\n\u001b[1;32m     88\u001b[0m \u001b[0;34m\u001b[0m\u001b[0m\n",
      "\u001b[0;32m<ipython-input-20-784dbcdc6bf8>\u001b[0m in \u001b[0;36mnext_bounce_time_gaussian\u001b[0;34m(x, v, C, Z)\u001b[0m\n\u001b[1;32m      3\u001b[0m \u001b[0;34m\u001b[0m\u001b[0m\n\u001b[1;32m      4\u001b[0m \u001b[0;32mdef\u001b[0m \u001b[0mnext_bounce_time_gaussian\u001b[0m\u001b[0;34m(\u001b[0m\u001b[0mx\u001b[0m\u001b[0;34m,\u001b[0m \u001b[0mv\u001b[0m\u001b[0;34m,\u001b[0m \u001b[0mC\u001b[0m\u001b[0;34m,\u001b[0m \u001b[0mZ\u001b[0m\u001b[0;34m)\u001b[0m\u001b[0;34m:\u001b[0m\u001b[0;34m\u001b[0m\u001b[0m\n\u001b[0;32m----> 5\u001b[0;31m     \u001b[0mA\u001b[0m \u001b[0;34m=\u001b[0m \u001b[0mv\u001b[0m \u001b[0;34m@\u001b[0m \u001b[0mlin\u001b[0m\u001b[0;34m.\u001b[0m\u001b[0msolve\u001b[0m\u001b[0;34m(\u001b[0m\u001b[0mC\u001b[0m \u001b[0;34m,\u001b[0m \u001b[0mx\u001b[0m\u001b[0;34m)\u001b[0m\u001b[0;34m\u001b[0m\u001b[0m\n\u001b[0m\u001b[1;32m      6\u001b[0m     \u001b[0mB\u001b[0m \u001b[0;34m=\u001b[0m \u001b[0mv\u001b[0m \u001b[0;34m@\u001b[0m \u001b[0mlin\u001b[0m\u001b[0;34m.\u001b[0m\u001b[0msolve\u001b[0m\u001b[0;34m(\u001b[0m\u001b[0mC\u001b[0m \u001b[0;34m,\u001b[0m \u001b[0mv\u001b[0m\u001b[0;34m)\u001b[0m\u001b[0;34m\u001b[0m\u001b[0m\n\u001b[1;32m      7\u001b[0m     \u001b[0mT0\u001b[0m \u001b[0;34m=\u001b[0m \u001b[0mnp\u001b[0m\u001b[0;34m.\u001b[0m\u001b[0mmaximum\u001b[0m\u001b[0;34m(\u001b[0m\u001b[0;36m0.0\u001b[0m\u001b[0;34m,\u001b[0m \u001b[0;34m-\u001b[0m\u001b[0mA\u001b[0m\u001b[0;34m/\u001b[0m\u001b[0mB\u001b[0m\u001b[0;34m)\u001b[0m\u001b[0;34m\u001b[0m\u001b[0m\n",
      "\u001b[0;32m/usr/local/lib/python3.6/site-packages/scipy/linalg/basic.py\u001b[0m in \u001b[0;36msolve\u001b[0;34m(a, b, sym_pos, lower, overwrite_a, overwrite_b, debug, check_finite, assume_a, transposed)\u001b[0m\n\u001b[1;32m    208\u001b[0m         \u001b[0mnorm\u001b[0m \u001b[0;34m=\u001b[0m \u001b[0;34m'1'\u001b[0m\u001b[0;34m\u001b[0m\u001b[0m\n\u001b[1;32m    209\u001b[0m \u001b[0;34m\u001b[0m\u001b[0m\n\u001b[0;32m--> 210\u001b[0;31m     \u001b[0manorm\u001b[0m \u001b[0;34m=\u001b[0m \u001b[0mlange\u001b[0m\u001b[0;34m(\u001b[0m\u001b[0mnorm\u001b[0m\u001b[0;34m,\u001b[0m \u001b[0ma1\u001b[0m\u001b[0;34m)\u001b[0m\u001b[0;34m\u001b[0m\u001b[0m\n\u001b[0m\u001b[1;32m    211\u001b[0m \u001b[0;34m\u001b[0m\u001b[0m\n\u001b[1;32m    212\u001b[0m     \u001b[0;31m# Generalized case 'gesv'\u001b[0m\u001b[0;34m\u001b[0m\u001b[0;34m\u001b[0m\u001b[0m\n",
      "\u001b[0;31mKeyboardInterrupt\u001b[0m: "
     ]
    },
    {
     "data": {
      "text/plain": [
       "<Figure size 432x288 with 0 Axes>"
      ]
     },
     "metadata": {},
     "output_type": "display_data"
    }
   ],
   "source": [
    "run_experiment_ng(20, 0.0, 500, \"figures/nd3_0\");\n",
    "run_experiment_ng(20, 1.0, 500, \"figures/nd3_1\");\n",
    "run_experiment_ng(20, 2.0, 500, \"figures/nd3_2\");\n",
    "run_experiment_ng(20, 3.0, 500, \"figures/nd3_3\");\n",
    "run_experiment_ng(20, 4.0, 500, \"figures/nd3_4\");\n",
    "\n",
    "run_experiment_ng(40, 0.0, 500, \"figures/nd5_0\");\n",
    "run_experiment_ng(40, 1.0, 500, \"figures/nd5_1\");\n",
    "run_experiment_ng(40, 2.0, 500, \"figures/nd5_2\");\n",
    "run_experiment_ng(40, 3.0, 500, \"figures/nd5_3\");\n",
    "run_experiment_ng(40, 4.0, 500, \"figures/nd5_4\");\n",
    "\n",
    "run_experiment_ng(60, 0.0, 500, \"figures/nd7_0\");\n",
    "run_experiment_ng(60, 1.0, 500, \"figures/nd7_1\");\n",
    "run_experiment_ng(60, 2.0, 500, \"figures/nd7_2\");\n",
    "run_experiment_ng(60, 3.0, 500, \"figures/nd7_3\");\n",
    "run_experiment_ng(60, 4.0, 500, \"figures/nd7_4\");\n",
    "\n",
    "run_experiment_ng(80, 0.0, 500, \"figures/nd9_0\");\n",
    "run_experiment_ng(80, 1.0, 500, \"figures/nd9_1\");\n",
    "run_experiment_ng(80, 2.0, 500, \"figures/nd9_2\");\n",
    "run_experiment_ng(80, 3.0, 500, \"figures/nd9_3\");\n",
    "run_experiment_ng(80, 4.0, 500, \"figures/nd9_4\");\n",
    "\n",
    "run_experiment_ng(100, 0.0, 500, \"figures/nd11_0\");\n",
    "run_experiment_ng(100, 1.0, 500, \"figures/nd11_1\");\n",
    "run_experiment_ng(100, 2.0, 500, \"figures/nd11_2\");\n",
    "run_experiment_ng(100, 3.0, 500, \"figures/nd11_3\");\n",
    "run_experiment_ng(100, 4.0, 500, \"figures/nd11_4\");\n"
   ]
  },
  {
   "cell_type": "code",
   "execution_count": 34,
   "metadata": {},
   "outputs": [],
   "source": [
    "import glob\n",
    "simulation_table = []\n",
    "for fname in glob.glob('figures/nd*.txt', recursive=True):\n",
    "    x = np.loadtxt(fname)\n",
    "    simulation_table = simulation_table + [x]\n",
    "    \n",
    "simulation_table = np.vstack(simulation_table)\n",
    "simulation_table = simulation_table[simulation_table[:,0].argsort()]"
   ]
  },
  {
   "cell_type": "code",
   "execution_count": 38,
   "metadata": {},
   "outputs": [
    {
     "data": {
      "image/png": "[encoded data removed]",
      "text/plain": [
       "<Figure size 432x288 with 1 Axes>"
      ]
     },
     "metadata": {},
     "output_type": "display_data"
    }
   ],
   "source": [
    "series = simulation_table[simulation_table[:,1]==0.0,:]\n",
    "plt.loglog(series[:,0], series[:,4], label='eta = 0')\n",
    "\n",
    "series = simulation_table[simulation_table[:,1]==1.0,:]\n",
    "plt.loglog(series[:,0], series[:,4], label='eta = 1')\n",
    "\n",
    "series = simulation_table[simulation_table[:,1]==2.0,:]\n",
    "plt.loglog(series[:,0], series[:,4], label='eta = 2')\n",
    "\n",
    "series = simulation_table[simulation_table[:,1]==3.0,:]\n",
    "plt.loglog(series[:,0], series[:,4], label='eta = 3')\n",
    "\n",
    "series = simulation_table[simulation_table[:,1]==4.0,:]\n",
    "plt.loglog(series[:,0], series[:,4], label='eta = 4')\n",
    "\n",
    "plt.legend()\n",
    "plt.xlabel(\"dimension\")\n",
    "plt.ylabel(\"flips per unit time\")\n",
    "plt.title(\"Number of flips per unit time\")\n",
    "#plt.show()\n",
    "plt.savefig(\"figures/bps_ng_flips.png\",dpi=199)"
   ]
  },
  {
   "cell_type": "code",
   "execution_count": 39,
   "metadata": {},
   "outputs": [
    {
     "data": {
      "image/png": "[encoded data removed]",
      "text/plain": [
       "<Figure size 432x288 with 1 Axes>"
      ]
     },
     "metadata": {},
     "output_type": "display_data"
    }
   ],
   "source": [
    "series = simulation_table[simulation_table[:,1]==0.0,:]\n",
    "plt.loglog(series[:,0], series[:,3], label='eta = 0')\n",
    "\n",
    "series = simulation_table[simulation_table[:,1]==1.0,:]\n",
    "plt.loglog(series[:,0], series[:,3], label='eta = 1')\n",
    "\n",
    "series = simulation_table[simulation_table[:,1]==2.0,:]\n",
    "plt.loglog(series[:,0], series[:,3], label='eta = 2')\n",
    "\n",
    "series = simulation_table[simulation_table[:,1]==3.0,:]\n",
    "plt.loglog(series[:,0], series[:,3], label='eta = 3')\n",
    "\n",
    "series = simulation_table[simulation_table[:,1]==4.0,:]\n",
    "plt.loglog(series[:,0], series[:,3], label='eta = 4')\n",
    "\n",
    "plt.legend()\n",
    "\n",
    "plt.xlabel(\"dimension\")\n",
    "plt.ylabel(\"L2 norm of cv error\")\n",
    "plt.title(\"Error in CV error\")\n",
    "#plt.show()\n",
    "plt.savefig(\"figures/bps_ng_error_cv.png\",dpi=199)"
   ]
  },
  {
   "cell_type": "code",
   "execution_count": 40,
   "metadata": {},
   "outputs": [
    {
     "data": {
      "image/png": "[encoded data removed]",
      "text/plain": [
       "<Figure size 432x288 with 1 Axes>"
      ]
     },
     "metadata": {},
     "output_type": "display_data"
    }
   ],
   "source": [
    "series = simulation_table[simulation_table[:,1]==0.0,:]\n",
    "plt.loglog(series[:,0], series[:,2], label='eta = 0')\n",
    "\n",
    "series = simulation_table[simulation_table[:,1]==1.0,:]\n",
    "plt.loglog(series[:,0], series[:,2], label='eta = 1')\n",
    "\n",
    "series = simulation_table[simulation_table[:,1]==2.0,:]\n",
    "plt.loglog(series[:,0], series[:,2], label='eta = 2')\n",
    "\n",
    "series = simulation_table[simulation_table[:,1]==3.0,:]\n",
    "plt.loglog(series[:,0], series[:,2], label='eta = 3')\n",
    "\n",
    "series = simulation_table[simulation_table[:,1]==4.0,:]\n",
    "plt.loglog(series[:,0], series[:,2], label='eta = 4')\n",
    "\n",
    "plt.legend()\n",
    "\n",
    "plt.xlabel(\"dimension\")\n",
    "plt.ylabel(\"L2 norm of mean error\")\n",
    "plt.title(\"Error in marginal mean\")\n",
    "#plt.show()\n",
    "plt.savefig(\"figures/bps_ng_error_mean.png\",dpi=199)"
   ]
  },
  {
   "cell_type": "code",
   "execution_count": null,
   "metadata": {},
   "outputs": [],
   "source": []
  }
 ],
 "metadata": {
  "kernelspec": {
   "display_name": "Python 3",
   "language": "python",
   "name": "python3"
  },
  "language_info": {
   "codemirror_mode": {
    "name": "ipython",
    "version": 3
   },
   "file_extension": ".py",
   "mimetype": "text/x-python",
   "name": "python",
   "nbconvert_exporter": "python",
   "pygments_lexer": "ipython3",
   "version": "3.6.4"
  }
 },
 "nbformat": 4,
 "nbformat_minor": 2
}

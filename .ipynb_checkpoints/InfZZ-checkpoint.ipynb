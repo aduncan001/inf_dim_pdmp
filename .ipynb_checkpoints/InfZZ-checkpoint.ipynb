{
 "cells": [
  {
   "cell_type": "code",
   "execution_count": 2,
   "metadata": {},
   "outputs": [],
   "source": [
    "from tqdm import tqdm_notebook as tqdm\n",
    "import numpy as np\n",
    "import scipy.linalg as lin\n",
    "\n",
    "import matplotlib.pyplot as plt\n",
    "plt.style.use(['dark_background'])\n",
    "\n",
    "import statsmodels.tsa.stattools as st"
   ]
  },
  {
   "cell_type": "markdown",
   "metadata": {},
   "source": [
    "# Rescaled ZZ process for infinite dimensional Gaussian distribution"
   ]
  },
  {
   "cell_type": "code",
   "execution_count": 3,
   "metadata": {},
   "outputs": [],
   "source": [
    "def next_refresh_time(lambda_refresh, Z):\n",
    "    return Z/lambda_refresh\n",
    "\n",
    "def next_bounce_time_gaussian_coordinate(x, v, C, k, Z):\n",
    "    A = v[k]*x[k]/C[k,k]\n",
    "    B = v[k]*v[k]/C[k,k]\n",
    "    T0 = np.maximum(0.0, -A/B)\n",
    "        \n",
    "    tau = (-A + np.sqrt(A*A + 2*A*B*T0 + B*B*T0*T0 + 2*B*Z))/B\n",
    "    \n",
    "    return tau\n",
    "  \n",
    "def zz_gaussian(C, x0, v0, T, num_samples):\n",
    "    d = x0.shape[0]\n",
    "    \n",
    "    sample_mesh  = np.linspace(0, T, num_samples)\n",
    "\n",
    "    t = 0.0\n",
    "\n",
    "    reflect_count = 0\n",
    "    \n",
    "    x_sample = np.zeros((len(sample_mesh), d))\n",
    "    v_sample = np.zeros((len(sample_mesh), d))\n",
    "    t_sample = np.zeros(len(sample_mesh))\n",
    "    num_reflect = np.zeros(len(sample_mesh))\n",
    "\n",
    "    erg_av  = 0.0\n",
    "    erg_var = 0.0\n",
    "\n",
    "    sample_index = 0\n",
    "    \n",
    "    x = x0\n",
    "    v = v0\n",
    "    \n",
    "    #progress bar code\n",
    "    pbar = tqdm(total=num_samples)\n",
    "\n",
    "    taus_ng = np.zeros(d)\n",
    "    taus_g = np.zeros(d)\n",
    "\n",
    "    while (t < T):   \n",
    "        \n",
    "        #Calculate next bounce times\n",
    "\n",
    "        tau_min = np.inf\n",
    "        for k in range(d):\n",
    "            taus_g[k] = next_bounce_time_gaussian_coordinate(x, v, C, k, -np.log(np.random.rand()))\n",
    "            \n",
    "            if (taus_g[k] < tau_min):\n",
    "                k_min = k\n",
    "                tau_min = taus_g[k]\n",
    "        \n",
    "                \n",
    "        #Generate the ergodic averages\n",
    "        erg_av = erg_av + x*tau_min + 0.5*v*tau_min**2\n",
    "        erg_var = erg_var +  x*x*tau_min + v*x*tau_min**2 + (1.0/3)*v*v*tau_min**3\n",
    "        \n",
    "        \n",
    "        #Generate the regular sample of x, v, t along the trajectory\n",
    "        while ((sample_index < num_samples) and (t + tau_min > sample_mesh[sample_index])):\n",
    "\n",
    "            #print(\"%d : %2.12f, %2.12f\"%(sample_index, t, tau_min))\n",
    "            x_sample[sample_index,:] = x + (sample_mesh[sample_index] - t)*v\n",
    "            v_sample[sample_index, :] = v\n",
    "            t_sample[sample_index] = t\n",
    "            \n",
    "            num_reflect[sample_index] = reflect_count\n",
    "            \n",
    "            reflect_count = 0\n",
    "            sample_index = sample_index + 1\n",
    "            pbar.update(1)\n",
    "                 \n",
    "        reflect_count = reflect_count + 1\n",
    "        \n",
    "        \n",
    "        t = t + tau_min\n",
    "        x = x + tau_min*v\n",
    "        \n",
    "        v[k_min] = -v[k_min]\n",
    "        \n",
    "    erg_av = erg_av/t\n",
    "    erg_var = erg_var/t - (erg_av)**2\n",
    "    \n",
    "    pbar.close()\n",
    "    \n",
    "    return(erg_av, erg_var, x_sample, v_sample, t_sample, num_reflect)"
   ]
  },
  {
   "cell_type": "code",
   "execution_count": 6,
   "metadata": {},
   "outputs": [],
   "source": [
    "def compute_errors(erg_av, erg_var,x_sample, C):\n",
    "    Cinv=lin.inv(C)\n",
    "    av_err = np.linalg.norm(erg_av)\n",
    "    var_err = np.linalg.norm(erg_var - np.diag(C))\n",
    "    cv_err = np.mean(np.abs(np.mean((Cinv @ x_sample.T).T, 0)))\n",
    "    \n",
    "    return (av_err, var_err, cv_err)\n",
    "    \n",
    "def run_experiment(d, alpha, burnin, fname):\n",
    "    C = np.diag([1.0/(i+1)**2 for i in np.arange(d)])\n",
    "    x0 = np.zeros(d)\n",
    "    v0 = 1.0/np.arange(1, d+1)**alpha\n",
    "    \n",
    "    #T = 100000.0\n",
    "    T = 1000.0\n",
    "    num_samples = int(T)\n",
    "\n",
    "    erg_av, erg_var, x_sample, v_sample, t_sample, reflect_count_zz = zz_gaussian(C, x0, v0, T, num_samples)\n",
    "    av_err, var_err,cv_err = compute_errors(erg_av, erg_var,x_sample, C)\n",
    "        \n",
    "    x_sample=x_sample[burnin:,:]\n",
    "    reflect_count_zz= reflect_count_zz[burnin:]\n",
    "    \n",
    "    plt.subplot(2,2,1)\n",
    "    plt.plot(np.cumsum(x_sample[:,0])/np.arange(1, 1+ x_sample.shape[0]))\n",
    "\n",
    "    plt.subplot(2,2,2)\n",
    "    plt.plot(np.cumsum(reflect_count_zz)/np.arange(1, 1+ len(reflect_count_zz)))\n",
    "\n",
    "    plt.subplot(2,2,3)\n",
    "    plt.plot(st.acf(x_sample[:,0],unbiased=True))\n",
    "\n",
    "    plt.suptitle(\"d = %d, eta = %1.2f, av_err = %f, var_err = %f\"%(d, alpha, av_err, var_err))\n",
    "    plt.tight_layout()\n",
    "    plt.savefig(fname+\".png\",dpi=199)\n",
    "    \n",
    "    np.savetxt(fname+\".txt\", (d, alpha, av_err, var_err, cv_err, np.mean(reflect_count_zz)))\n",
    "    \n",
    "    \n",
    "    plt.clf()"
   ]
  },
  {
   "cell_type": "code",
   "execution_count": 7,
   "metadata": {},
   "outputs": [
    {
     "data": {
      "application/vnd.jupyter.widget-view+json": {
       "model_id": "22a73b01af1047a78dbefdf6fef54626",
       "version_major": 2,
       "version_minor": 0
      },
      "text/plain": [
       "HBox(children=(IntProgress(value=0, max=1000), HTML(value='')))"
      ]
     },
     "metadata": {},
     "output_type": "display_data"
    },
    {
     "name": "stdout",
     "output_type": "stream",
     "text": [
      "\n"
     ]
    },
    {
     "data": {
      "text/plain": [
       "<Figure size 432x288 with 0 Axes>"
      ]
     },
     "metadata": {},
     "output_type": "display_data"
    }
   ],
   "source": [
    "run_experiment(10, 1.0, 500,\"figures/zz_0\");"
   ]
  },
  {
   "cell_type": "code",
   "execution_count": 488,
   "metadata": {},
   "outputs": [
    {
     "data": {
      "application/vnd.jupyter.widget-view+json": {
       "model_id": "d53cfa452bc947ac9b0791ea616e1290",
       "version_major": 2,
       "version_minor": 0
      },
      "text/html": [
       "<p>Failed to display Jupyter Widget of type <code>HBox</code>.</p>\n",
       "<p>\n",
       "  If you're reading this message in the Jupyter Notebook or JupyterLab Notebook, it may mean\n",
       "  that the widgets JavaScript is still loading. If this message persists, it\n",
       "  likely means that the widgets JavaScript library is either not installed or\n",
       "  not enabled. See the <a href=\"https://ipywidgets.readthedocs.io/en/stable/user_install.html\">Jupyter\n",
       "  Widgets Documentation</a> for setup instructions.\n",
       "</p>\n",
       "<p>\n",
       "  If you're reading this message in another frontend (for example, a static\n",
       "  rendering on GitHub or <a href=\"https://nbviewer.jupyter.org/\">NBViewer</a>),\n",
       "  it may mean that your frontend doesn't currently support widgets.\n",
       "</p>\n"
      ],
      "text/plain": [
       "HBox(children=(IntProgress(value=0, max=1000), HTML(value='')))"
      ]
     },
     "metadata": {},
     "output_type": "display_data"
    },
    {
     "name": "stdout",
     "output_type": "stream",
     "text": [
      "\n"
     ]
    },
    {
     "data": {
      "application/vnd.jupyter.widget-view+json": {
       "model_id": "66cb4a407fda401391ee94f5cb33afd2",
       "version_major": 2,
       "version_minor": 0
      },
      "text/html": [
       "<p>Failed to display Jupyter Widget of type <code>HBox</code>.</p>\n",
       "<p>\n",
       "  If you're reading this message in the Jupyter Notebook or JupyterLab Notebook, it may mean\n",
       "  that the widgets JavaScript is still loading. If this message persists, it\n",
       "  likely means that the widgets JavaScript library is either not installed or\n",
       "  not enabled. See the <a href=\"https://ipywidgets.readthedocs.io/en/stable/user_install.html\">Jupyter\n",
       "  Widgets Documentation</a> for setup instructions.\n",
       "</p>\n",
       "<p>\n",
       "  If you're reading this message in another frontend (for example, a static\n",
       "  rendering on GitHub or <a href=\"https://nbviewer.jupyter.org/\">NBViewer</a>),\n",
       "  it may mean that your frontend doesn't currently support widgets.\n",
       "</p>\n"
      ],
      "text/plain": [
       "HBox(children=(IntProgress(value=0, max=1000), HTML(value='')))"
      ]
     },
     "metadata": {},
     "output_type": "display_data"
    },
    {
     "name": "stdout",
     "output_type": "stream",
     "text": [
      "\n"
     ]
    },
    {
     "data": {
      "application/vnd.jupyter.widget-view+json": {
       "model_id": "48abf4ab78b1439b8b38bdabfe820b9b",
       "version_major": 2,
       "version_minor": 0
      },
      "text/html": [
       "<p>Failed to display Jupyter Widget of type <code>HBox</code>.</p>\n",
       "<p>\n",
       "  If you're reading this message in the Jupyter Notebook or JupyterLab Notebook, it may mean\n",
       "  that the widgets JavaScript is still loading. If this message persists, it\n",
       "  likely means that the widgets JavaScript library is either not installed or\n",
       "  not enabled. See the <a href=\"https://ipywidgets.readthedocs.io/en/stable/user_install.html\">Jupyter\n",
       "  Widgets Documentation</a> for setup instructions.\n",
       "</p>\n",
       "<p>\n",
       "  If you're reading this message in another frontend (for example, a static\n",
       "  rendering on GitHub or <a href=\"https://nbviewer.jupyter.org/\">NBViewer</a>),\n",
       "  it may mean that your frontend doesn't currently support widgets.\n",
       "</p>\n"
      ],
      "text/plain": [
       "HBox(children=(IntProgress(value=0, max=1000), HTML(value='')))"
      ]
     },
     "metadata": {},
     "output_type": "display_data"
    },
    {
     "name": "stdout",
     "output_type": "stream",
     "text": [
      "\n"
     ]
    },
    {
     "data": {
      "application/vnd.jupyter.widget-view+json": {
       "model_id": "67898a55bb864ed5bda75be2bfe82ab1",
       "version_major": 2,
       "version_minor": 0
      },
      "text/html": [
       "<p>Failed to display Jupyter Widget of type <code>HBox</code>.</p>\n",
       "<p>\n",
       "  If you're reading this message in the Jupyter Notebook or JupyterLab Notebook, it may mean\n",
       "  that the widgets JavaScript is still loading. If this message persists, it\n",
       "  likely means that the widgets JavaScript library is either not installed or\n",
       "  not enabled. See the <a href=\"https://ipywidgets.readthedocs.io/en/stable/user_install.html\">Jupyter\n",
       "  Widgets Documentation</a> for setup instructions.\n",
       "</p>\n",
       "<p>\n",
       "  If you're reading this message in another frontend (for example, a static\n",
       "  rendering on GitHub or <a href=\"https://nbviewer.jupyter.org/\">NBViewer</a>),\n",
       "  it may mean that your frontend doesn't currently support widgets.\n",
       "</p>\n"
      ],
      "text/plain": [
       "HBox(children=(IntProgress(value=0, max=1000), HTML(value='')))"
      ]
     },
     "metadata": {},
     "output_type": "display_data"
    },
    {
     "name": "stdout",
     "output_type": "stream",
     "text": [
      "\n"
     ]
    },
    {
     "data": {
      "application/vnd.jupyter.widget-view+json": {
       "model_id": "2f1aa618d20c4b698499de064813633e",
       "version_major": 2,
       "version_minor": 0
      },
      "text/html": [
       "<p>Failed to display Jupyter Widget of type <code>HBox</code>.</p>\n",
       "<p>\n",
       "  If you're reading this message in the Jupyter Notebook or JupyterLab Notebook, it may mean\n",
       "  that the widgets JavaScript is still loading. If this message persists, it\n",
       "  likely means that the widgets JavaScript library is either not installed or\n",
       "  not enabled. See the <a href=\"https://ipywidgets.readthedocs.io/en/stable/user_install.html\">Jupyter\n",
       "  Widgets Documentation</a> for setup instructions.\n",
       "</p>\n",
       "<p>\n",
       "  If you're reading this message in another frontend (for example, a static\n",
       "  rendering on GitHub or <a href=\"https://nbviewer.jupyter.org/\">NBViewer</a>),\n",
       "  it may mean that your frontend doesn't currently support widgets.\n",
       "</p>\n"
      ],
      "text/plain": [
       "HBox(children=(IntProgress(value=0, max=1000), HTML(value='')))"
      ]
     },
     "metadata": {},
     "output_type": "display_data"
    },
    {
     "name": "stdout",
     "output_type": "stream",
     "text": [
      "\n"
     ]
    },
    {
     "data": {
      "application/vnd.jupyter.widget-view+json": {
       "model_id": "01b02272196f4c9ba291f6252fb34f59",
       "version_major": 2,
       "version_minor": 0
      },
      "text/html": [
       "<p>Failed to display Jupyter Widget of type <code>HBox</code>.</p>\n",
       "<p>\n",
       "  If you're reading this message in the Jupyter Notebook or JupyterLab Notebook, it may mean\n",
       "  that the widgets JavaScript is still loading. If this message persists, it\n",
       "  likely means that the widgets JavaScript library is either not installed or\n",
       "  not enabled. See the <a href=\"https://ipywidgets.readthedocs.io/en/stable/user_install.html\">Jupyter\n",
       "  Widgets Documentation</a> for setup instructions.\n",
       "</p>\n",
       "<p>\n",
       "  If you're reading this message in another frontend (for example, a static\n",
       "  rendering on GitHub or <a href=\"https://nbviewer.jupyter.org/\">NBViewer</a>),\n",
       "  it may mean that your frontend doesn't currently support widgets.\n",
       "</p>\n"
      ],
      "text/plain": [
       "HBox(children=(IntProgress(value=0, max=1000), HTML(value='')))"
      ]
     },
     "metadata": {},
     "output_type": "display_data"
    },
    {
     "name": "stdout",
     "output_type": "stream",
     "text": [
      "\n"
     ]
    },
    {
     "data": {
      "application/vnd.jupyter.widget-view+json": {
       "model_id": "2a0d30d959564a9b948d9039bbc07906",
       "version_major": 2,
       "version_minor": 0
      },
      "text/html": [
       "<p>Failed to display Jupyter Widget of type <code>HBox</code>.</p>\n",
       "<p>\n",
       "  If you're reading this message in the Jupyter Notebook or JupyterLab Notebook, it may mean\n",
       "  that the widgets JavaScript is still loading. If this message persists, it\n",
       "  likely means that the widgets JavaScript library is either not installed or\n",
       "  not enabled. See the <a href=\"https://ipywidgets.readthedocs.io/en/stable/user_install.html\">Jupyter\n",
       "  Widgets Documentation</a> for setup instructions.\n",
       "</p>\n",
       "<p>\n",
       "  If you're reading this message in another frontend (for example, a static\n",
       "  rendering on GitHub or <a href=\"https://nbviewer.jupyter.org/\">NBViewer</a>),\n",
       "  it may mean that your frontend doesn't currently support widgets.\n",
       "</p>\n"
      ],
      "text/plain": [
       "HBox(children=(IntProgress(value=0, max=1000), HTML(value='')))"
      ]
     },
     "metadata": {},
     "output_type": "display_data"
    },
    {
     "name": "stdout",
     "output_type": "stream",
     "text": [
      "\n"
     ]
    },
    {
     "data": {
      "application/vnd.jupyter.widget-view+json": {
       "model_id": "92e2dd5a04d84b46a7822a8a3d66e96b",
       "version_major": 2,
       "version_minor": 0
      },
      "text/html": [
       "<p>Failed to display Jupyter Widget of type <code>HBox</code>.</p>\n",
       "<p>\n",
       "  If you're reading this message in the Jupyter Notebook or JupyterLab Notebook, it may mean\n",
       "  that the widgets JavaScript is still loading. If this message persists, it\n",
       "  likely means that the widgets JavaScript library is either not installed or\n",
       "  not enabled. See the <a href=\"https://ipywidgets.readthedocs.io/en/stable/user_install.html\">Jupyter\n",
       "  Widgets Documentation</a> for setup instructions.\n",
       "</p>\n",
       "<p>\n",
       "  If you're reading this message in another frontend (for example, a static\n",
       "  rendering on GitHub or <a href=\"https://nbviewer.jupyter.org/\">NBViewer</a>),\n",
       "  it may mean that your frontend doesn't currently support widgets.\n",
       "</p>\n"
      ],
      "text/plain": [
       "HBox(children=(IntProgress(value=0, max=1000), HTML(value='')))"
      ]
     },
     "metadata": {},
     "output_type": "display_data"
    },
    {
     "name": "stdout",
     "output_type": "stream",
     "text": [
      "\n"
     ]
    },
    {
     "data": {
      "application/vnd.jupyter.widget-view+json": {
       "model_id": "baa8f26548a74b69a8f108e8f98e8583",
       "version_major": 2,
       "version_minor": 0
      },
      "text/html": [
       "<p>Failed to display Jupyter Widget of type <code>HBox</code>.</p>\n",
       "<p>\n",
       "  If you're reading this message in the Jupyter Notebook or JupyterLab Notebook, it may mean\n",
       "  that the widgets JavaScript is still loading. If this message persists, it\n",
       "  likely means that the widgets JavaScript library is either not installed or\n",
       "  not enabled. See the <a href=\"https://ipywidgets.readthedocs.io/en/stable/user_install.html\">Jupyter\n",
       "  Widgets Documentation</a> for setup instructions.\n",
       "</p>\n",
       "<p>\n",
       "  If you're reading this message in another frontend (for example, a static\n",
       "  rendering on GitHub or <a href=\"https://nbviewer.jupyter.org/\">NBViewer</a>),\n",
       "  it may mean that your frontend doesn't currently support widgets.\n",
       "</p>\n"
      ],
      "text/plain": [
       "HBox(children=(IntProgress(value=0, max=1000), HTML(value='')))"
      ]
     },
     "metadata": {},
     "output_type": "display_data"
    },
    {
     "name": "stdout",
     "output_type": "stream",
     "text": [
      "\n"
     ]
    },
    {
     "data": {
      "application/vnd.jupyter.widget-view+json": {
       "model_id": "5ed73e4da9044a8a8ace8f6b94f2cbce",
       "version_major": 2,
       "version_minor": 0
      },
      "text/html": [
       "<p>Failed to display Jupyter Widget of type <code>HBox</code>.</p>\n",
       "<p>\n",
       "  If you're reading this message in the Jupyter Notebook or JupyterLab Notebook, it may mean\n",
       "  that the widgets JavaScript is still loading. If this message persists, it\n",
       "  likely means that the widgets JavaScript library is either not installed or\n",
       "  not enabled. See the <a href=\"https://ipywidgets.readthedocs.io/en/stable/user_install.html\">Jupyter\n",
       "  Widgets Documentation</a> for setup instructions.\n",
       "</p>\n",
       "<p>\n",
       "  If you're reading this message in another frontend (for example, a static\n",
       "  rendering on GitHub or <a href=\"https://nbviewer.jupyter.org/\">NBViewer</a>),\n",
       "  it may mean that your frontend doesn't currently support widgets.\n",
       "</p>\n"
      ],
      "text/plain": [
       "HBox(children=(IntProgress(value=0, max=1000), HTML(value='')))"
      ]
     },
     "metadata": {},
     "output_type": "display_data"
    },
    {
     "name": "stdout",
     "output_type": "stream",
     "text": [
      "\n"
     ]
    },
    {
     "data": {
      "application/vnd.jupyter.widget-view+json": {
       "model_id": "21cf3b616476440082c48cbb9fbbadd0",
       "version_major": 2,
       "version_minor": 0
      },
      "text/html": [
       "<p>Failed to display Jupyter Widget of type <code>HBox</code>.</p>\n",
       "<p>\n",
       "  If you're reading this message in the Jupyter Notebook or JupyterLab Notebook, it may mean\n",
       "  that the widgets JavaScript is still loading. If this message persists, it\n",
       "  likely means that the widgets JavaScript library is either not installed or\n",
       "  not enabled. See the <a href=\"https://ipywidgets.readthedocs.io/en/stable/user_install.html\">Jupyter\n",
       "  Widgets Documentation</a> for setup instructions.\n",
       "</p>\n",
       "<p>\n",
       "  If you're reading this message in another frontend (for example, a static\n",
       "  rendering on GitHub or <a href=\"https://nbviewer.jupyter.org/\">NBViewer</a>),\n",
       "  it may mean that your frontend doesn't currently support widgets.\n",
       "</p>\n"
      ],
      "text/plain": [
       "HBox(children=(IntProgress(value=0, max=1000), HTML(value='')))"
      ]
     },
     "metadata": {},
     "output_type": "display_data"
    },
    {
     "name": "stdout",
     "output_type": "stream",
     "text": [
      "\n"
     ]
    },
    {
     "data": {
      "application/vnd.jupyter.widget-view+json": {
       "model_id": "7a33eae03c2e4a80ac3b2d37d3bd5ed9",
       "version_major": 2,
       "version_minor": 0
      },
      "text/html": [
       "<p>Failed to display Jupyter Widget of type <code>HBox</code>.</p>\n",
       "<p>\n",
       "  If you're reading this message in the Jupyter Notebook or JupyterLab Notebook, it may mean\n",
       "  that the widgets JavaScript is still loading. If this message persists, it\n",
       "  likely means that the widgets JavaScript library is either not installed or\n",
       "  not enabled. See the <a href=\"https://ipywidgets.readthedocs.io/en/stable/user_install.html\">Jupyter\n",
       "  Widgets Documentation</a> for setup instructions.\n",
       "</p>\n",
       "<p>\n",
       "  If you're reading this message in another frontend (for example, a static\n",
       "  rendering on GitHub or <a href=\"https://nbviewer.jupyter.org/\">NBViewer</a>),\n",
       "  it may mean that your frontend doesn't currently support widgets.\n",
       "</p>\n"
      ],
      "text/plain": [
       "HBox(children=(IntProgress(value=0, max=1000), HTML(value='')))"
      ]
     },
     "metadata": {},
     "output_type": "display_data"
    },
    {
     "name": "stdout",
     "output_type": "stream",
     "text": [
      "\n"
     ]
    },
    {
     "data": {
      "application/vnd.jupyter.widget-view+json": {
       "model_id": "1f55d9df75a14264a557683ef5432f4e",
       "version_major": 2,
       "version_minor": 0
      },
      "text/html": [
       "<p>Failed to display Jupyter Widget of type <code>HBox</code>.</p>\n",
       "<p>\n",
       "  If you're reading this message in the Jupyter Notebook or JupyterLab Notebook, it may mean\n",
       "  that the widgets JavaScript is still loading. If this message persists, it\n",
       "  likely means that the widgets JavaScript library is either not installed or\n",
       "  not enabled. See the <a href=\"https://ipywidgets.readthedocs.io/en/stable/user_install.html\">Jupyter\n",
       "  Widgets Documentation</a> for setup instructions.\n",
       "</p>\n",
       "<p>\n",
       "  If you're reading this message in another frontend (for example, a static\n",
       "  rendering on GitHub or <a href=\"https://nbviewer.jupyter.org/\">NBViewer</a>),\n",
       "  it may mean that your frontend doesn't currently support widgets.\n",
       "</p>\n"
      ],
      "text/plain": [
       "HBox(children=(IntProgress(value=0, max=1000), HTML(value='')))"
      ]
     },
     "metadata": {},
     "output_type": "display_data"
    },
    {
     "name": "stdout",
     "output_type": "stream",
     "text": [
      "\n"
     ]
    },
    {
     "data": {
      "application/vnd.jupyter.widget-view+json": {
       "model_id": "6ba1a82f7e444a8a86620d993374b74a",
       "version_major": 2,
       "version_minor": 0
      },
      "text/html": [
       "<p>Failed to display Jupyter Widget of type <code>HBox</code>.</p>\n",
       "<p>\n",
       "  If you're reading this message in the Jupyter Notebook or JupyterLab Notebook, it may mean\n",
       "  that the widgets JavaScript is still loading. If this message persists, it\n",
       "  likely means that the widgets JavaScript library is either not installed or\n",
       "  not enabled. See the <a href=\"https://ipywidgets.readthedocs.io/en/stable/user_install.html\">Jupyter\n",
       "  Widgets Documentation</a> for setup instructions.\n",
       "</p>\n",
       "<p>\n",
       "  If you're reading this message in another frontend (for example, a static\n",
       "  rendering on GitHub or <a href=\"https://nbviewer.jupyter.org/\">NBViewer</a>),\n",
       "  it may mean that your frontend doesn't currently support widgets.\n",
       "</p>\n"
      ],
      "text/plain": [
       "HBox(children=(IntProgress(value=0, max=1000), HTML(value='')))"
      ]
     },
     "metadata": {},
     "output_type": "display_data"
    },
    {
     "name": "stdout",
     "output_type": "stream",
     "text": [
      "\n"
     ]
    },
    {
     "data": {
      "application/vnd.jupyter.widget-view+json": {
       "model_id": "67f3b2caff5344c7bab2185a00c57692",
       "version_major": 2,
       "version_minor": 0
      },
      "text/html": [
       "<p>Failed to display Jupyter Widget of type <code>HBox</code>.</p>\n",
       "<p>\n",
       "  If you're reading this message in the Jupyter Notebook or JupyterLab Notebook, it may mean\n",
       "  that the widgets JavaScript is still loading. If this message persists, it\n",
       "  likely means that the widgets JavaScript library is either not installed or\n",
       "  not enabled. See the <a href=\"https://ipywidgets.readthedocs.io/en/stable/user_install.html\">Jupyter\n",
       "  Widgets Documentation</a> for setup instructions.\n",
       "</p>\n",
       "<p>\n",
       "  If you're reading this message in another frontend (for example, a static\n",
       "  rendering on GitHub or <a href=\"https://nbviewer.jupyter.org/\">NBViewer</a>),\n",
       "  it may mean that your frontend doesn't currently support widgets.\n",
       "</p>\n"
      ],
      "text/plain": [
       "HBox(children=(IntProgress(value=0, max=1000), HTML(value='')))"
      ]
     },
     "metadata": {},
     "output_type": "display_data"
    },
    {
     "name": "stdout",
     "output_type": "stream",
     "text": [
      "\n"
     ]
    },
    {
     "data": {
      "application/vnd.jupyter.widget-view+json": {
       "model_id": "b00cd4f705e84488a47f74aeb3c17578",
       "version_major": 2,
       "version_minor": 0
      },
      "text/html": [
       "<p>Failed to display Jupyter Widget of type <code>HBox</code>.</p>\n",
       "<p>\n",
       "  If you're reading this message in the Jupyter Notebook or JupyterLab Notebook, it may mean\n",
       "  that the widgets JavaScript is still loading. If this message persists, it\n",
       "  likely means that the widgets JavaScript library is either not installed or\n",
       "  not enabled. See the <a href=\"https://ipywidgets.readthedocs.io/en/stable/user_install.html\">Jupyter\n",
       "  Widgets Documentation</a> for setup instructions.\n",
       "</p>\n",
       "<p>\n",
       "  If you're reading this message in another frontend (for example, a static\n",
       "  rendering on GitHub or <a href=\"https://nbviewer.jupyter.org/\">NBViewer</a>),\n",
       "  it may mean that your frontend doesn't currently support widgets.\n",
       "</p>\n"
      ],
      "text/plain": [
       "HBox(children=(IntProgress(value=0, max=1000), HTML(value='')))"
      ]
     },
     "metadata": {},
     "output_type": "display_data"
    },
    {
     "name": "stdout",
     "output_type": "stream",
     "text": [
      "\n"
     ]
    },
    {
     "data": {
      "application/vnd.jupyter.widget-view+json": {
       "model_id": "8e2534b890e54556a37cfb70e3948dfb",
       "version_major": 2,
       "version_minor": 0
      },
      "text/html": [
       "<p>Failed to display Jupyter Widget of type <code>HBox</code>.</p>\n",
       "<p>\n",
       "  If you're reading this message in the Jupyter Notebook or JupyterLab Notebook, it may mean\n",
       "  that the widgets JavaScript is still loading. If this message persists, it\n",
       "  likely means that the widgets JavaScript library is either not installed or\n",
       "  not enabled. See the <a href=\"https://ipywidgets.readthedocs.io/en/stable/user_install.html\">Jupyter\n",
       "  Widgets Documentation</a> for setup instructions.\n",
       "</p>\n",
       "<p>\n",
       "  If you're reading this message in another frontend (for example, a static\n",
       "  rendering on GitHub or <a href=\"https://nbviewer.jupyter.org/\">NBViewer</a>),\n",
       "  it may mean that your frontend doesn't currently support widgets.\n",
       "</p>\n"
      ],
      "text/plain": [
       "HBox(children=(IntProgress(value=0, max=1000), HTML(value='')))"
      ]
     },
     "metadata": {},
     "output_type": "display_data"
    },
    {
     "name": "stdout",
     "output_type": "stream",
     "text": [
      "\n"
     ]
    },
    {
     "data": {
      "application/vnd.jupyter.widget-view+json": {
       "model_id": "2636b1cb34a844fbab411b66cd21430a",
       "version_major": 2,
       "version_minor": 0
      },
      "text/html": [
       "<p>Failed to display Jupyter Widget of type <code>HBox</code>.</p>\n",
       "<p>\n",
       "  If you're reading this message in the Jupyter Notebook or JupyterLab Notebook, it may mean\n",
       "  that the widgets JavaScript is still loading. If this message persists, it\n",
       "  likely means that the widgets JavaScript library is either not installed or\n",
       "  not enabled. See the <a href=\"https://ipywidgets.readthedocs.io/en/stable/user_install.html\">Jupyter\n",
       "  Widgets Documentation</a> for setup instructions.\n",
       "</p>\n",
       "<p>\n",
       "  If you're reading this message in another frontend (for example, a static\n",
       "  rendering on GitHub or <a href=\"https://nbviewer.jupyter.org/\">NBViewer</a>),\n",
       "  it may mean that your frontend doesn't currently support widgets.\n",
       "</p>\n"
      ],
      "text/plain": [
       "HBox(children=(IntProgress(value=0, max=1000), HTML(value='')))"
      ]
     },
     "metadata": {},
     "output_type": "display_data"
    },
    {
     "name": "stdout",
     "output_type": "stream",
     "text": [
      "\n"
     ]
    },
    {
     "data": {
      "application/vnd.jupyter.widget-view+json": {
       "model_id": "a878712b3f7e47dd93904090b51832b2",
       "version_major": 2,
       "version_minor": 0
      },
      "text/html": [
       "<p>Failed to display Jupyter Widget of type <code>HBox</code>.</p>\n",
       "<p>\n",
       "  If you're reading this message in the Jupyter Notebook or JupyterLab Notebook, it may mean\n",
       "  that the widgets JavaScript is still loading. If this message persists, it\n",
       "  likely means that the widgets JavaScript library is either not installed or\n",
       "  not enabled. See the <a href=\"https://ipywidgets.readthedocs.io/en/stable/user_install.html\">Jupyter\n",
       "  Widgets Documentation</a> for setup instructions.\n",
       "</p>\n",
       "<p>\n",
       "  If you're reading this message in another frontend (for example, a static\n",
       "  rendering on GitHub or <a href=\"https://nbviewer.jupyter.org/\">NBViewer</a>),\n",
       "  it may mean that your frontend doesn't currently support widgets.\n",
       "</p>\n"
      ],
      "text/plain": [
       "HBox(children=(IntProgress(value=0, max=1000), HTML(value='')))"
      ]
     },
     "metadata": {},
     "output_type": "display_data"
    },
    {
     "name": "stdout",
     "output_type": "stream",
     "text": [
      "\n"
     ]
    },
    {
     "data": {
      "application/vnd.jupyter.widget-view+json": {
       "model_id": "4a9ec5112adc4411b2345336482098d3",
       "version_major": 2,
       "version_minor": 0
      },
      "text/html": [
       "<p>Failed to display Jupyter Widget of type <code>HBox</code>.</p>\n",
       "<p>\n",
       "  If you're reading this message in the Jupyter Notebook or JupyterLab Notebook, it may mean\n",
       "  that the widgets JavaScript is still loading. If this message persists, it\n",
       "  likely means that the widgets JavaScript library is either not installed or\n",
       "  not enabled. See the <a href=\"https://ipywidgets.readthedocs.io/en/stable/user_install.html\">Jupyter\n",
       "  Widgets Documentation</a> for setup instructions.\n",
       "</p>\n",
       "<p>\n",
       "  If you're reading this message in another frontend (for example, a static\n",
       "  rendering on GitHub or <a href=\"https://nbviewer.jupyter.org/\">NBViewer</a>),\n",
       "  it may mean that your frontend doesn't currently support widgets.\n",
       "</p>\n"
      ],
      "text/plain": [
       "HBox(children=(IntProgress(value=0, max=1000), HTML(value='')))"
      ]
     },
     "metadata": {},
     "output_type": "display_data"
    },
    {
     "name": "stdout",
     "output_type": "stream",
     "text": [
      "\n"
     ]
    },
    {
     "data": {
      "application/vnd.jupyter.widget-view+json": {
       "model_id": "54ce834eb5654a009f8974b860ee6995",
       "version_major": 2,
       "version_minor": 0
      },
      "text/html": [
       "<p>Failed to display Jupyter Widget of type <code>HBox</code>.</p>\n",
       "<p>\n",
       "  If you're reading this message in the Jupyter Notebook or JupyterLab Notebook, it may mean\n",
       "  that the widgets JavaScript is still loading. If this message persists, it\n",
       "  likely means that the widgets JavaScript library is either not installed or\n",
       "  not enabled. See the <a href=\"https://ipywidgets.readthedocs.io/en/stable/user_install.html\">Jupyter\n",
       "  Widgets Documentation</a> for setup instructions.\n",
       "</p>\n",
       "<p>\n",
       "  If you're reading this message in another frontend (for example, a static\n",
       "  rendering on GitHub or <a href=\"https://nbviewer.jupyter.org/\">NBViewer</a>),\n",
       "  it may mean that your frontend doesn't currently support widgets.\n",
       "</p>\n"
      ],
      "text/plain": [
       "HBox(children=(IntProgress(value=0, max=1000), HTML(value='')))"
      ]
     },
     "metadata": {},
     "output_type": "display_data"
    },
    {
     "name": "stdout",
     "output_type": "stream",
     "text": [
      "\n"
     ]
    },
    {
     "data": {
      "application/vnd.jupyter.widget-view+json": {
       "model_id": "e93003d1d6664a3294841a1a41c684b8",
       "version_major": 2,
       "version_minor": 0
      },
      "text/html": [
       "<p>Failed to display Jupyter Widget of type <code>HBox</code>.</p>\n",
       "<p>\n",
       "  If you're reading this message in the Jupyter Notebook or JupyterLab Notebook, it may mean\n",
       "  that the widgets JavaScript is still loading. If this message persists, it\n",
       "  likely means that the widgets JavaScript library is either not installed or\n",
       "  not enabled. See the <a href=\"https://ipywidgets.readthedocs.io/en/stable/user_install.html\">Jupyter\n",
       "  Widgets Documentation</a> for setup instructions.\n",
       "</p>\n",
       "<p>\n",
       "  If you're reading this message in another frontend (for example, a static\n",
       "  rendering on GitHub or <a href=\"https://nbviewer.jupyter.org/\">NBViewer</a>),\n",
       "  it may mean that your frontend doesn't currently support widgets.\n",
       "</p>\n"
      ],
      "text/plain": [
       "HBox(children=(IntProgress(value=0, max=1000), HTML(value='')))"
      ]
     },
     "metadata": {},
     "output_type": "display_data"
    },
    {
     "name": "stdout",
     "output_type": "stream",
     "text": [
      "\n"
     ]
    },
    {
     "data": {
      "application/vnd.jupyter.widget-view+json": {
       "model_id": "733a65ef25584fd793d6454583be5152",
       "version_major": 2,
       "version_minor": 0
      },
      "text/html": [
       "<p>Failed to display Jupyter Widget of type <code>HBox</code>.</p>\n",
       "<p>\n",
       "  If you're reading this message in the Jupyter Notebook or JupyterLab Notebook, it may mean\n",
       "  that the widgets JavaScript is still loading. If this message persists, it\n",
       "  likely means that the widgets JavaScript library is either not installed or\n",
       "  not enabled. See the <a href=\"https://ipywidgets.readthedocs.io/en/stable/user_install.html\">Jupyter\n",
       "  Widgets Documentation</a> for setup instructions.\n",
       "</p>\n",
       "<p>\n",
       "  If you're reading this message in another frontend (for example, a static\n",
       "  rendering on GitHub or <a href=\"https://nbviewer.jupyter.org/\">NBViewer</a>),\n",
       "  it may mean that your frontend doesn't currently support widgets.\n",
       "</p>\n"
      ],
      "text/plain": [
       "HBox(children=(IntProgress(value=0, max=1000), HTML(value='')))"
      ]
     },
     "metadata": {},
     "output_type": "display_data"
    },
    {
     "name": "stdout",
     "output_type": "stream",
     "text": [
      "\n"
     ]
    },
    {
     "data": {
      "application/vnd.jupyter.widget-view+json": {
       "model_id": "20cbfee5619c4a6aaf2076b093058f86",
       "version_major": 2,
       "version_minor": 0
      },
      "text/html": [
       "<p>Failed to display Jupyter Widget of type <code>HBox</code>.</p>\n",
       "<p>\n",
       "  If you're reading this message in the Jupyter Notebook or JupyterLab Notebook, it may mean\n",
       "  that the widgets JavaScript is still loading. If this message persists, it\n",
       "  likely means that the widgets JavaScript library is either not installed or\n",
       "  not enabled. See the <a href=\"https://ipywidgets.readthedocs.io/en/stable/user_install.html\">Jupyter\n",
       "  Widgets Documentation</a> for setup instructions.\n",
       "</p>\n",
       "<p>\n",
       "  If you're reading this message in another frontend (for example, a static\n",
       "  rendering on GitHub or <a href=\"https://nbviewer.jupyter.org/\">NBViewer</a>),\n",
       "  it may mean that your frontend doesn't currently support widgets.\n",
       "</p>\n"
      ],
      "text/plain": [
       "HBox(children=(IntProgress(value=0, max=1000), HTML(value='')))"
      ]
     },
     "metadata": {},
     "output_type": "display_data"
    },
    {
     "name": "stdout",
     "output_type": "stream",
     "text": [
      "\n"
     ]
    },
    {
     "data": {
      "application/vnd.jupyter.widget-view+json": {
       "model_id": "6a5702f98e814df88bf1484237acbdff",
       "version_major": 2,
       "version_minor": 0
      },
      "text/html": [
       "<p>Failed to display Jupyter Widget of type <code>HBox</code>.</p>\n",
       "<p>\n",
       "  If you're reading this message in the Jupyter Notebook or JupyterLab Notebook, it may mean\n",
       "  that the widgets JavaScript is still loading. If this message persists, it\n",
       "  likely means that the widgets JavaScript library is either not installed or\n",
       "  not enabled. See the <a href=\"https://ipywidgets.readthedocs.io/en/stable/user_install.html\">Jupyter\n",
       "  Widgets Documentation</a> for setup instructions.\n",
       "</p>\n",
       "<p>\n",
       "  If you're reading this message in another frontend (for example, a static\n",
       "  rendering on GitHub or <a href=\"https://nbviewer.jupyter.org/\">NBViewer</a>),\n",
       "  it may mean that your frontend doesn't currently support widgets.\n",
       "</p>\n"
      ],
      "text/plain": [
       "HBox(children=(IntProgress(value=0, max=1000), HTML(value='')))"
      ]
     },
     "metadata": {},
     "output_type": "display_data"
    },
    {
     "name": "stdout",
     "output_type": "stream",
     "text": [
      "\n"
     ]
    },
    {
     "data": {
      "application/vnd.jupyter.widget-view+json": {
       "model_id": "78457a931e794b7698fe6063443ed808",
       "version_major": 2,
       "version_minor": 0
      },
      "text/html": [
       "<p>Failed to display Jupyter Widget of type <code>HBox</code>.</p>\n",
       "<p>\n",
       "  If you're reading this message in the Jupyter Notebook or JupyterLab Notebook, it may mean\n",
       "  that the widgets JavaScript is still loading. If this message persists, it\n",
       "  likely means that the widgets JavaScript library is either not installed or\n",
       "  not enabled. See the <a href=\"https://ipywidgets.readthedocs.io/en/stable/user_install.html\">Jupyter\n",
       "  Widgets Documentation</a> for setup instructions.\n",
       "</p>\n",
       "<p>\n",
       "  If you're reading this message in another frontend (for example, a static\n",
       "  rendering on GitHub or <a href=\"https://nbviewer.jupyter.org/\">NBViewer</a>),\n",
       "  it may mean that your frontend doesn't currently support widgets.\n",
       "</p>\n"
      ],
      "text/plain": [
       "HBox(children=(IntProgress(value=0, max=1000), HTML(value='')))"
      ]
     },
     "metadata": {},
     "output_type": "display_data"
    },
    {
     "ename": "KeyboardInterrupt",
     "evalue": "",
     "output_type": "error",
     "traceback": [
      "\u001b[0;31m---------------------------------------------------------------------------\u001b[0m",
      "\u001b[0;31mKeyboardInterrupt\u001b[0m                         Traceback (most recent call last)",
      "\u001b[0;32m<ipython-input-488-9707e6689671>\u001b[0m in \u001b[0;36m<module>\u001b[0;34m()\u001b[0m\n\u001b[1;32m     29\u001b[0m \u001b[0mrun_experiment\u001b[0m\u001b[0;34m(\u001b[0m\u001b[0;36m40\u001b[0m\u001b[0;34m,\u001b[0m \u001b[0;36m4.0\u001b[0m\u001b[0;34m,\u001b[0m \u001b[0;36m500\u001b[0m\u001b[0;34m,\u001b[0m \u001b[0;34m\"figures/zz5_4\"\u001b[0m\u001b[0;34m)\u001b[0m\u001b[0;34m;\u001b[0m\u001b[0;34m\u001b[0m\u001b[0m\n\u001b[1;32m     30\u001b[0m \u001b[0;34m\u001b[0m\u001b[0m\n\u001b[0;32m---> 31\u001b[0;31m \u001b[0mrun_experiment\u001b[0m\u001b[0;34m(\u001b[0m\u001b[0;36m50\u001b[0m\u001b[0;34m,\u001b[0m \u001b[0;36m0.0\u001b[0m\u001b[0;34m,\u001b[0m \u001b[0;36m500\u001b[0m\u001b[0;34m,\u001b[0m \u001b[0;34m\"figures/zz6_0\"\u001b[0m\u001b[0;34m)\u001b[0m\u001b[0;34m;\u001b[0m\u001b[0;34m\u001b[0m\u001b[0m\n\u001b[0m\u001b[1;32m     32\u001b[0m \u001b[0mrun_experiment\u001b[0m\u001b[0;34m(\u001b[0m\u001b[0;36m50\u001b[0m\u001b[0;34m,\u001b[0m \u001b[0;36m1.0\u001b[0m\u001b[0;34m,\u001b[0m \u001b[0;36m500\u001b[0m\u001b[0;34m,\u001b[0m \u001b[0;34m\"figures/zz6_1\"\u001b[0m\u001b[0;34m)\u001b[0m\u001b[0;34m;\u001b[0m\u001b[0;34m\u001b[0m\u001b[0m\n\u001b[1;32m     33\u001b[0m \u001b[0mrun_experiment\u001b[0m\u001b[0;34m(\u001b[0m\u001b[0;36m50\u001b[0m\u001b[0;34m,\u001b[0m \u001b[0;36m2.0\u001b[0m\u001b[0;34m,\u001b[0m \u001b[0;36m500\u001b[0m\u001b[0;34m,\u001b[0m \u001b[0;34m\"figures/zz6_2\"\u001b[0m\u001b[0;34m)\u001b[0m\u001b[0;34m;\u001b[0m\u001b[0;34m\u001b[0m\u001b[0m\n",
      "\u001b[0;32m<ipython-input-487-718e7f784e22>\u001b[0m in \u001b[0;36mrun_experiment\u001b[0;34m(d, alpha, burnin, fname)\u001b[0m\n\u001b[1;32m     16\u001b[0m     \u001b[0mnum_samples\u001b[0m \u001b[0;34m=\u001b[0m \u001b[0mint\u001b[0m\u001b[0;34m(\u001b[0m\u001b[0mT\u001b[0m\u001b[0;34m)\u001b[0m\u001b[0;34m\u001b[0m\u001b[0m\n\u001b[1;32m     17\u001b[0m \u001b[0;34m\u001b[0m\u001b[0m\n\u001b[0;32m---> 18\u001b[0;31m     \u001b[0merg_av\u001b[0m\u001b[0;34m,\u001b[0m \u001b[0merg_var\u001b[0m\u001b[0;34m,\u001b[0m \u001b[0mx_sample\u001b[0m\u001b[0;34m,\u001b[0m \u001b[0mv_sample\u001b[0m\u001b[0;34m,\u001b[0m \u001b[0mt_sample\u001b[0m\u001b[0;34m,\u001b[0m \u001b[0mreflect_count_zz\u001b[0m \u001b[0;34m=\u001b[0m \u001b[0mzz_gaussian\u001b[0m\u001b[0;34m(\u001b[0m\u001b[0mC\u001b[0m\u001b[0;34m,\u001b[0m \u001b[0mx0\u001b[0m\u001b[0;34m,\u001b[0m \u001b[0mv0\u001b[0m\u001b[0;34m,\u001b[0m \u001b[0mT\u001b[0m\u001b[0;34m,\u001b[0m \u001b[0mnum_samples\u001b[0m\u001b[0;34m)\u001b[0m\u001b[0;34m\u001b[0m\u001b[0m\n\u001b[0m\u001b[1;32m     19\u001b[0m     \u001b[0mav_err\u001b[0m\u001b[0;34m,\u001b[0m \u001b[0mvar_err\u001b[0m\u001b[0;34m,\u001b[0m\u001b[0mcv_err\u001b[0m \u001b[0;34m=\u001b[0m \u001b[0mcompute_errors\u001b[0m\u001b[0;34m(\u001b[0m\u001b[0merg_av\u001b[0m\u001b[0;34m,\u001b[0m \u001b[0merg_var\u001b[0m\u001b[0;34m,\u001b[0m\u001b[0mx_sample\u001b[0m\u001b[0;34m,\u001b[0m \u001b[0mC\u001b[0m\u001b[0;34m)\u001b[0m\u001b[0;34m\u001b[0m\u001b[0m\n\u001b[1;32m     20\u001b[0m \u001b[0;34m\u001b[0m\u001b[0m\n",
      "\u001b[0;32m<ipython-input-479-2f98185591c9>\u001b[0m in \u001b[0;36mzz_gaussian\u001b[0;34m(C, x0, v0, T, num_samples)\u001b[0m\n\u001b[1;32m     45\u001b[0m         \u001b[0mtau_min\u001b[0m \u001b[0;34m=\u001b[0m \u001b[0mnp\u001b[0m\u001b[0;34m.\u001b[0m\u001b[0minf\u001b[0m\u001b[0;34m\u001b[0m\u001b[0m\n\u001b[1;32m     46\u001b[0m         \u001b[0;32mfor\u001b[0m \u001b[0mk\u001b[0m \u001b[0;32min\u001b[0m \u001b[0mrange\u001b[0m\u001b[0;34m(\u001b[0m\u001b[0md\u001b[0m\u001b[0;34m)\u001b[0m\u001b[0;34m:\u001b[0m\u001b[0;34m\u001b[0m\u001b[0m\n\u001b[0;32m---> 47\u001b[0;31m             \u001b[0mtaus_g\u001b[0m\u001b[0;34m[\u001b[0m\u001b[0mk\u001b[0m\u001b[0;34m]\u001b[0m \u001b[0;34m=\u001b[0m \u001b[0mnext_bounce_time_gaussian_coordinate\u001b[0m\u001b[0;34m(\u001b[0m\u001b[0mx\u001b[0m\u001b[0;34m,\u001b[0m \u001b[0mv\u001b[0m\u001b[0;34m,\u001b[0m \u001b[0mC\u001b[0m\u001b[0;34m,\u001b[0m \u001b[0mk\u001b[0m\u001b[0;34m,\u001b[0m \u001b[0;34m-\u001b[0m\u001b[0mnp\u001b[0m\u001b[0;34m.\u001b[0m\u001b[0mlog\u001b[0m\u001b[0;34m(\u001b[0m\u001b[0mnp\u001b[0m\u001b[0;34m.\u001b[0m\u001b[0mrandom\u001b[0m\u001b[0;34m.\u001b[0m\u001b[0mrand\u001b[0m\u001b[0;34m(\u001b[0m\u001b[0;34m)\u001b[0m\u001b[0;34m)\u001b[0m\u001b[0;34m)\u001b[0m\u001b[0;34m\u001b[0m\u001b[0m\n\u001b[0m\u001b[1;32m     48\u001b[0m \u001b[0;34m\u001b[0m\u001b[0m\n\u001b[1;32m     49\u001b[0m             \u001b[0;32mif\u001b[0m \u001b[0;34m(\u001b[0m\u001b[0mtaus_g\u001b[0m\u001b[0;34m[\u001b[0m\u001b[0mk\u001b[0m\u001b[0;34m]\u001b[0m \u001b[0;34m<\u001b[0m \u001b[0mtau_min\u001b[0m\u001b[0;34m)\u001b[0m\u001b[0;34m:\u001b[0m\u001b[0;34m\u001b[0m\u001b[0m\n",
      "\u001b[0;32m<ipython-input-479-2f98185591c9>\u001b[0m in \u001b[0;36mnext_bounce_time_gaussian_coordinate\u001b[0;34m(x, v, C, k, Z)\u001b[0m\n\u001b[1;32m      5\u001b[0m     \u001b[0mA\u001b[0m \u001b[0;34m=\u001b[0m \u001b[0mv\u001b[0m\u001b[0;34m[\u001b[0m\u001b[0mk\u001b[0m\u001b[0;34m]\u001b[0m\u001b[0;34m*\u001b[0m\u001b[0mx\u001b[0m\u001b[0;34m[\u001b[0m\u001b[0mk\u001b[0m\u001b[0;34m]\u001b[0m\u001b[0;34m/\u001b[0m\u001b[0mC\u001b[0m\u001b[0;34m[\u001b[0m\u001b[0mk\u001b[0m\u001b[0;34m,\u001b[0m\u001b[0mk\u001b[0m\u001b[0;34m]\u001b[0m\u001b[0;34m\u001b[0m\u001b[0m\n\u001b[1;32m      6\u001b[0m     \u001b[0mB\u001b[0m \u001b[0;34m=\u001b[0m \u001b[0mv\u001b[0m\u001b[0;34m[\u001b[0m\u001b[0mk\u001b[0m\u001b[0;34m]\u001b[0m\u001b[0;34m*\u001b[0m\u001b[0mv\u001b[0m\u001b[0;34m[\u001b[0m\u001b[0mk\u001b[0m\u001b[0;34m]\u001b[0m\u001b[0;34m/\u001b[0m\u001b[0mC\u001b[0m\u001b[0;34m[\u001b[0m\u001b[0mk\u001b[0m\u001b[0;34m,\u001b[0m\u001b[0mk\u001b[0m\u001b[0;34m]\u001b[0m\u001b[0;34m\u001b[0m\u001b[0m\n\u001b[0;32m----> 7\u001b[0;31m     \u001b[0mT0\u001b[0m \u001b[0;34m=\u001b[0m \u001b[0mnp\u001b[0m\u001b[0;34m.\u001b[0m\u001b[0mmaximum\u001b[0m\u001b[0;34m(\u001b[0m\u001b[0;36m0.0\u001b[0m\u001b[0;34m,\u001b[0m \u001b[0;34m-\u001b[0m\u001b[0mA\u001b[0m\u001b[0;34m/\u001b[0m\u001b[0mB\u001b[0m\u001b[0;34m)\u001b[0m\u001b[0;34m\u001b[0m\u001b[0m\n\u001b[0m\u001b[1;32m      8\u001b[0m \u001b[0;34m\u001b[0m\u001b[0m\n\u001b[1;32m      9\u001b[0m     \u001b[0mtau\u001b[0m \u001b[0;34m=\u001b[0m \u001b[0;34m(\u001b[0m\u001b[0;34m-\u001b[0m\u001b[0mA\u001b[0m \u001b[0;34m+\u001b[0m \u001b[0mnp\u001b[0m\u001b[0;34m.\u001b[0m\u001b[0msqrt\u001b[0m\u001b[0;34m(\u001b[0m\u001b[0mA\u001b[0m\u001b[0;34m*\u001b[0m\u001b[0mA\u001b[0m \u001b[0;34m+\u001b[0m \u001b[0;36m2\u001b[0m\u001b[0;34m*\u001b[0m\u001b[0mA\u001b[0m\u001b[0;34m*\u001b[0m\u001b[0mB\u001b[0m\u001b[0;34m*\u001b[0m\u001b[0mT0\u001b[0m \u001b[0;34m+\u001b[0m \u001b[0mB\u001b[0m\u001b[0;34m*\u001b[0m\u001b[0mB\u001b[0m\u001b[0;34m*\u001b[0m\u001b[0mT0\u001b[0m\u001b[0;34m*\u001b[0m\u001b[0mT0\u001b[0m \u001b[0;34m+\u001b[0m \u001b[0;36m2\u001b[0m\u001b[0;34m*\u001b[0m\u001b[0mB\u001b[0m\u001b[0;34m*\u001b[0m\u001b[0mZ\u001b[0m\u001b[0;34m)\u001b[0m\u001b[0;34m)\u001b[0m\u001b[0;34m/\u001b[0m\u001b[0mB\u001b[0m\u001b[0;34m\u001b[0m\u001b[0m\n",
      "\u001b[0;31mKeyboardInterrupt\u001b[0m: "
     ]
    },
    {
     "data": {
      "text/plain": [
       "<Figure size 432x288 with 0 Axes>"
      ]
     },
     "metadata": {},
     "output_type": "display_data"
    }
   ],
   "source": [
    "run_experiment(1, 0.0, 500,\"figures/zz1_0\");\n",
    "run_experiment(1, 1.0, 500,\"figures/zz1_1\");\n",
    "run_experiment(1, 2.0, 500,\"figures/zz1_2\");\n",
    "run_experiment(1, 3.0, 500,\"figures/zz1_3\");\n",
    "run_experiment(1, 4.0, 500,\"figures/zz1_4\");\n",
    "\n",
    "run_experiment(10, 0.0, 500,\"figures/zz2_0\");\n",
    "run_experiment(10, 1.0, 500, \"figures/zz2_1\");\n",
    "run_experiment(10, 2.0, 500, \"figures/zz2_2\");\n",
    "run_experiment(10, 3.0, 500, \"figures/zz2_3\");\n",
    "run_experiment(10, 4.0, 500, \"figures/zz2_4\");\n",
    "\n",
    "run_experiment(20, 0.0, 500, \"figures/zz3_0\");\n",
    "run_experiment(20, 1.0, 500, \"figures/zz3_1\");\n",
    "run_experiment(20, 2.0, 500, \"figures/zz3_2\");\n",
    "run_experiment(20, 3.0, 500, \"figures/zz3_3\");\n",
    "run_experiment(20, 4.0, 500, \"figures/zz3_4\");\n",
    "\n",
    "run_experiment(30, 0.0, 500, \"figures/zz4_0\");\n",
    "run_experiment(30, 1.0, 500, \"figures/zz4_1\");\n",
    "run_experiment(30, 2.0, 500, \"figures/zz4_2\");\n",
    "run_experiment(30, 3.0, 500, \"figures/zz4_3\");\n",
    "run_experiment(30, 4.0, 500, \"figures/zz4_4\");\n",
    "\n",
    "run_experiment(40, 0.0, 500, \"figures/zz5_0\");\n",
    "run_experiment(40, 1.0, 500, \"figures/zz5_1\");\n",
    "run_experiment(40, 2.0, 500, \"figures/zz5_2\");\n",
    "run_experiment(40, 3.0, 500, \"figures/zz5_3\");\n",
    "run_experiment(40, 4.0, 500, \"figures/zz5_4\");\n",
    "\n",
    "run_experiment(50, 0.0, 500, \"figures/zz6_0\");\n",
    "run_experiment(50, 1.0, 500, \"figures/zz6_1\");\n",
    "run_experiment(50, 2.0, 500, \"figures/zz6_2\");\n",
    "run_experiment(50, 3.0, 500, \"figures/zz6_3\");\n",
    "run_experiment(50, 4.0, 500, \"figures/zz6_4\");\n",
    "\n",
    "run_experiment(60, 0.0, 500, \"figures/zz7_0\");\n",
    "run_experiment(60, 1.0, 500, \"figures/zz7_1\");\n",
    "run_experiment(60, 2.0, 500, \"figures/zz7_2\");\n",
    "run_experiment(60, 3.0, 500, \"figures/zz7_3\");\n",
    "run_experiment(60, 4.0, 500, \"figures/zz7_4\");\n",
    "\n",
    "run_experiment(70, 0.0, 500, \"figures/zz8_0\");\n",
    "run_experiment(70, 1.0, 500, \"figures/zz8_1\");\n",
    "run_experiment(70, 2.0, 500, \"figures/zz8_2\");\n",
    "run_experiment(70, 3.0, 500, \"figures/zz8_3\");\n",
    "run_experiment(70, 4.0, 500, \"figures/zz8_4\");\n",
    "\n",
    "run_experiment(80, 0.0, 500, \"figures/zz9_0\");\n",
    "run_experiment(80, 1.0, 500, \"figures/zz9_1\");\n",
    "run_experiment(80, 2.0, 500, \"figures/zz9_2\");\n",
    "run_experiment(80, 3.0, 500, \"figures/zz9_3\");\n",
    "run_experiment(80, 4.0, 500, \"figures/zz9_4\");\n",
    "\n",
    "run_experiment(90, 0.0, 500, \"figures/zz10_0\");\n",
    "run_experiment(90, 1.0, 500, \"figures/zz10_1\");\n",
    "run_experiment(90, 2.0, 500, \"figures/zz10_2\");\n",
    "run_experiment(90, 3.0, 500, \"figures/zz10_3\");\n",
    "run_experiment(90, 4.0, 500, \"figures/zz10_4\");\n",
    "\n",
    "\n",
    "run_experiment(100, 0.0, 500, \"figures/zz11_0\");\n",
    "run_experiment(100, 1.0, 500, \"figures/zz11_1\");\n",
    "run_experiment(100, 2.0, 500, \"figures/zz11_2\");\n",
    "run_experiment(100, 3.0, 500, \"figures/zz11_3\");\n",
    "run_experiment(100, 4.0, 500, \"figures/zz11_4\");\n"
   ]
  },
  {
   "cell_type": "code",
   "execution_count": 482,
   "metadata": {},
   "outputs": [],
   "source": [
    "import glob\n",
    "simulation_table = []\n",
    "for fname in glob.glob('figures/zz*.txt', recursive=True):\n",
    "    x = np.loadtxt(fname)\n",
    "    simulation_table = simulation_table + [x]\n",
    "    \n",
    "simulation_table = np.vstack(simulation_table)\n",
    "simulation_table = simulation_table[simulation_table[:,0].argsort()]"
   ]
  },
  {
   "cell_type": "code",
   "execution_count": 492,
   "metadata": {},
   "outputs": [
    {
     "data": {
      "image/png": "[encoded data removed]",
      "text/plain": [
       "<Figure size 432x288 with 1 Axes>"
      ]
     },
     "metadata": {},
     "output_type": "display_data"
    }
   ],
   "source": [
    "series = simulation_table[simulation_table[:,1]==0.0,:]\n",
    "plt.loglog(series[:,0], series[:,5], label='alpha = 0')\n",
    "\n",
    "series = simulation_table[simulation_table[:,1]==1.0,:]\n",
    "plt.loglog(series[:,0], series[:,5], label='alpha = 1')\n",
    "\n",
    "series = simulation_table[simulation_table[:,1]==2.0,:]\n",
    "plt.loglog(series[:,0], series[:,5], label='alpha = 2')\n",
    "\n",
    "series = simulation_table[simulation_table[:,1]==3.0,:]\n",
    "plt.loglog(series[:,0], series[:,5], label='alpha = 3')\n",
    "\n",
    "series = simulation_table[simulation_table[:,1]==4.0,:]\n",
    "plt.loglog(series[:,0], series[:,5], label='alpha = 4')\n",
    "\n",
    "plt.legend()\n",
    "plt.xlabel(\"dimension\")\n",
    "plt.ylabel(\"flips per unit time\")\n",
    "plt.title(\"Number of flips per unit time\")\n",
    "#plt.show()\n",
    "plt.savefig(\"figures/zz_flips.png\",dpi=199)"
   ]
  },
  {
   "cell_type": "code",
   "execution_count": 493,
   "metadata": {},
   "outputs": [
    {
     "data": {
      "image/png": "[encoded data removed]",
      "text/plain": [
       "<Figure size 432x288 with 1 Axes>"
      ]
     },
     "metadata": {},
     "output_type": "display_data"
    }
   ],
   "source": [
    "series = simulation_table[simulation_table[:,1]==0.0,:]\n",
    "plt.loglog(series[:,0], series[:,3], label='alpha = 0')\n",
    "\n",
    "series = simulation_table[simulation_table[:,1]==1.0,:]\n",
    "plt.loglog(series[:,0], series[:,3], label='alpha = 1')\n",
    "\n",
    "series = simulation_table[simulation_table[:,1]==2.0,:]\n",
    "plt.loglog(series[:,0], series[:,3], label='alpha = 2')\n",
    "\n",
    "series = simulation_table[simulation_table[:,1]==3.0,:]\n",
    "plt.loglog(series[:,0], series[:,3], label='alpha = 3')\n",
    "\n",
    "series = simulation_table[simulation_table[:,1]==4.0,:]\n",
    "plt.loglog(series[:,0], series[:,3], label='alpha = 4')\n",
    "\n",
    "plt.legend()\n",
    "\n",
    "plt.xlabel(\"dimension\")\n",
    "plt.ylabel(\"L2 norm of variance error\")\n",
    "plt.title(\"Error in marginal variance\")\n",
    "#plt.show()\n",
    "plt.savefig(\"figures/zz_error_var.png\",dpi=199)"
   ]
  },
  {
   "cell_type": "code",
   "execution_count": 494,
   "metadata": {},
   "outputs": [
    {
     "data": {
      "image/png": "[encoded data removed]",
      "text/plain": [
       "<Figure size 432x288 with 1 Axes>"
      ]
     },
     "metadata": {},
     "output_type": "display_data"
    }
   ],
   "source": [
    "series = simulation_table[simulation_table[:,1]==0.0,:]\n",
    "plt.loglog(series[:,0], series[:,2], label='alpha = 0')\n",
    "\n",
    "series = simulation_table[simulation_table[:,1]==1.0,:]\n",
    "plt.loglog(series[:,0], series[:,2], label='alpha = 1')\n",
    "\n",
    "series = simulation_table[simulation_table[:,1]==2.0,:]\n",
    "plt.loglog(series[:,0], series[:,2], label='alpha = 2')\n",
    "\n",
    "series = simulation_table[simulation_table[:,1]==3.0,:]\n",
    "plt.loglog(series[:,0], series[:,2], label='alpha = 3')\n",
    "\n",
    "series = simulation_table[simulation_table[:,1]==4.0,:]\n",
    "plt.loglog(series[:,0], series[:,2], label='alpha = 4')\n",
    "\n",
    "plt.legend()\n",
    "\n",
    "plt.xlabel(\"dimension\")\n",
    "plt.ylabel(\"L2 norm of mean error\")\n",
    "plt.title(\"Error in marginal mean\")\n",
    "#plt.show()\n",
    "plt.savefig(\"figures/zz_error_mean.png\",dpi=199)"
   ]
  },
  {
   "cell_type": "code",
   "execution_count": null,
   "metadata": {},
   "outputs": [],
   "source": []
  },
  {
   "cell_type": "markdown",
   "metadata": {},
   "source": [
    "# Infinite dimensional zig-zag"
   ]
  },
  {
   "cell_type": "markdown",
   "metadata": {},
   "source": [
    "$$u(\\tau) = \\sqrt{2}\\sum_{n}a_{n}\\sin(n\\pi\\tau)$$ \n",
    "and\n",
    "$$\n",
    "    \\partial_{a_k}U(a) = 2\\sqrt{2}\\int \\left[\\left(\\sqrt{2}\\sum_{n}a_{n}\\sin(n\\pi\\tau)\\right)^3 - \\sqrt{2}\\sum_{n}a_{n}\\sin(n\\pi\\tau)\\right]sin(n\\pi k \\tau)\\,d\\tau.\n",
    "$$\n",
    "Using Riemann sums:\n",
    "$$\n",
    "    \\partial_{a_k}U(a) = 2\\sqrt{2}\\sum_i \\left[\\left(\\sqrt{2}\\sum_{n}a_{n}\\sin(n\\pi\\tau_i)\\right)^3 - \\sqrt{2}\\sum_{n}a_{n}\\sin(n\\pi\\tau_i)\\right]sin(n\\pi k \\tau_i)\\,\\Delta \\tau.\n",
    "$$"
   ]
  },
  {
   "cell_type": "markdown",
   "metadata": {},
   "source": [
    "This can be rewritten as \n",
    "$$\n",
    " \\partial_{a_k}U(a) = 2 \\left[\\left(Fa\\right)^3 - Fa\\right]F_{(\\cdot,k)}\\,\\Delta \\tau.\n",
    "$$"
   ]
  },
  {
   "cell_type": "markdown",
   "metadata": {},
   "source": [
    "So that the intensity can be written as \n",
    "$$\n",
    "   \\lambda_k(x+tv,v) = \\left(2 v_k\\left[\\left(F(a+tv)\\right)^3 - F(a+tv)\\right]F_{(\\cdot,k)}\\,\\Delta \\tau \\right)_{+}\n",
    "$$\n",
    "so that\n",
    "$$\n",
    " \\lambda_k(x+tv,v) \\leq |(2(Fa)^3 - 2(Fa)) F_kv_k| + t|(6(Fa)^2(Fv) - 2(Fv))F_kv_k| + 6t^2 |(Fa)(Fv)^2 F_kv_k| + t^3|2(Fv)^3 F_k v_k|.\n",
    "$$"
   ]
  },
  {
   "cell_type": "markdown",
   "metadata": {},
   "source": [
    "Integrating:\n",
    "$$s(T)  \\leq T|(2(Fa)^3 - 2(Fa)) F_kv_k| + T^2|(3(Fa)^2(Fv) - (Fv))F_kv_k| + 2T^3 |(Fa)(Fv)^2 F_kv_k| + (1/2)T^4|(Fv)^3 F_k v_k|$$"
   ]
  },
  {
   "cell_type": "code",
   "execution_count": 450,
   "metadata": {},
   "outputs": [],
   "source": [
    "R = 1.0\n",
    "N = 10**2\n",
    "K = 100\n",
    "\n",
    "dx = R/N\n",
    "\n",
    "mesh1 = np.linspace(0, R, N, endpoint=False)[1:]\n",
    "Fmat = np.sqrt(2)*np.array([[np.sin(np.pi*k*m) for k in range(1, K+1)] for m in mesh1])\n"
   ]
  },
  {
   "cell_type": "code",
   "execution_count": 26,
   "metadata": {},
   "outputs": [],
   "source": [
    "def next_refresh_time(lambda_refresh, Z):\n",
    "    return Z/lambda_refresh\n",
    "\n",
    "def intensity_non_gaussian_coordinate(x, v, tau, k, Fv, Fx, dx, Fmat):\n",
    "    \n",
    "    z = Fx + tau*Fv \n",
    "    s = (2.0*(z**3 - z) @ Fmat[:,k])* v[k]*dx\n",
    "    \n",
    "    return max(0.0, s)\n",
    "\n",
    "def dominating_intensity_non_gaussian_coordinate(x, v, tau, k, Fv, Fx, dx, Fmat):\n",
    "    Fkvk = Fmat[:, k]*v[k]\n",
    "    \n",
    "    T4 = np.dot(Fkvk, 2.0*(Fv)**3)*dx\n",
    "    T3 = np.dot(Fkvk, 6.0*(Fv)**2 * Fx)*dx\n",
    "    T2 = np.dot(Fkvk, 6.0*(Fv) * (Fx)**2 - 2.0*Fv)*dx\n",
    "    T1 = 2.0*np.dot(Fkvk, (Fx)**3 - Fx)*dx\n",
    "    \n",
    "    return np.abs(T1) + tau*np.abs(T2) + tau*tau*np.abs(T3) + tau*tau*tau*np.abs(T4)\n",
    "    \n",
    "def next_bounce_time_non_gaussian_coordinate(x, v, k, Z,  Fv, Fx, dx, Fmat):\n",
    "    #Assemble coefficients.\n",
    "    \n",
    "    Fkvk = Fmat[:, k]*v[k]\n",
    "    \n",
    "    T4 = 0.5*np.dot(Fkvk, (Fv)**3)\n",
    "    T3 = 2.0*np.dot(Fkvk, (Fv)**2 * Fx)\n",
    "    T2 = 3.0*np.dot(Fkvk, (Fv) * (Fx)**2) - np.dot(Fkvk, Fv)\n",
    "    T1 = 2.0*np.dot(Fkvk, (Fx)**3 - Fx)\n",
    "    \n",
    "    p = [np.abs(T4)*dx, np.abs(T3)*dx, np.abs(T2)*dx, np.abs(T1)*dx, -Z]\n",
    "    \n",
    "    rts = np.roots(p)\n",
    "  #  print(rts)\n",
    "\n",
    "    tau = np.real(rts[3])\n",
    "    if (tau < 0):\n",
    "        tau = np.inf\n",
    "    \n",
    "    return tau\n",
    "    \n",
    "\n",
    "def next_bounce_time_gaussian_coordinate(x, v, C, k, Z):\n",
    "    A = v[k]*x[k]/C[k,k]\n",
    "    B = v[k]*v[k]/C[k,k]\n",
    "    T0 = np.maximum(0.0, -A/B)\n",
    "        \n",
    "    tau = (-A + np.sqrt(A*A + 2*A*B*T0 + B*B*T0*T0 + 2*B*Z))/B\n",
    "    \n",
    "    return tau\n",
    "  \n",
    "def zz_non_gaussian(C, x0, v0, T, num_samples, Fmat, dx):\n",
    "    d = x0.shape[0]\n",
    "    \n",
    "    sample_mesh  = np.linspace(0, T, num_samples)\n",
    "\n",
    "    t = 0.0\n",
    "\n",
    "    refresh_count = 0\n",
    "    reflect_count = 0\n",
    "    \n",
    "    x_sample = np.zeros((len(sample_mesh), d))\n",
    "    v_sample = np.zeros((len(sample_mesh), d))\n",
    "    t_sample = np.zeros(len(sample_mesh))\n",
    "    num_reflect = np.zeros(len(sample_mesh))\n",
    "    num_refresh = np.zeros(len(sample_mesh))\n",
    "\n",
    "    erg_av  = 0.0\n",
    "    erg_var = 0.0\n",
    "\n",
    "    sample_index = 0\n",
    "    \n",
    "    x = x0\n",
    "    v = v0\n",
    "    \n",
    "    #progress bar code\n",
    "    pbar = tqdm(total=num_samples)\n",
    "\n",
    "    taus_ng = np.zeros(d)\n",
    "    taus_g = np.zeros(d)\n",
    "\n",
    "    while (t < T):   \n",
    "        \n",
    "        #Calculate next bounce times\n",
    "        Fv = Fmat @ v\n",
    "        Fx = Fmat @ x\n",
    " \n",
    "        tau_ng_min = np.inf\n",
    "        tau_g_min = np.inf\n",
    "        \n",
    "        k_ng_min = -1\n",
    "        k_g_min = -1\n",
    "        for k in range(d):\n",
    "            taus_ng[k] = next_bounce_time_non_gaussian_coordinate(x, v, k, -np.log(np.random.rand()), Fv, Fx, dx, Fmat)\n",
    "            taus_g[k] = next_bounce_time_gaussian_coordinate(x, v, C, k, -np.log(np.random.rand()))\n",
    "            \n",
    "            if (taus_ng[k] < tau_ng_min):\n",
    "                tau_ng_min = taus_ng[k]\n",
    "                k_ng_min = k\n",
    "                \n",
    "            if (taus_g[k] < tau_g_min):\n",
    "                tau_g_min = taus_g[k]\n",
    "                k_g_min = k\n",
    "            \n",
    "        \n",
    "#         print(\"tau_ng_min \", np.min(taus_ng), \" : tau_g_min \", tau_g_min)\n",
    "        tau_min = min(tau_ng_min, tau_g_min)\n",
    "        \n",
    "        #Generate the ergodic averages\n",
    "        erg_av = erg_av + x*tau_min + 0.5*v*tau_min**2\n",
    "        erg_var = erg_var +  x*x*tau_min + v*x*tau_min**2 + (1.0/3)*v*v*tau_min**3\n",
    "        \n",
    "        \n",
    "        #Generate the regular sample of x, v, t along the trajectory\n",
    "        while ((sample_index < num_samples) and (t + tau_min > sample_mesh[sample_index])):\n",
    "\n",
    "            #print(\"%d : %2.12f, %2.12f\"%(sample_index, t, tau_min))\n",
    "            x_sample[sample_index,:] = x + (sample_mesh[sample_index] - t)*v\n",
    "            v_sample[sample_index, :] = v\n",
    "            t_sample[sample_index] = t\n",
    "            \n",
    "            num_reflect[sample_index] = reflect_count\n",
    "            \n",
    "            reflect_count = 0\n",
    "            sample_index = sample_index + 1\n",
    "            pbar.update(1)\n",
    "        \n",
    "        v_new = v.copy()\n",
    "\n",
    "        if (tau_ng_min < tau_g_min):\n",
    "            k = k_ng_min\n",
    "            m = intensity_non_gaussian_coordinate(x, v, tau_min, k, Fv, Fx, dx, Fmat)\n",
    "            M = dominating_intensity_non_gaussian_coordinate(x, v, tau_min, k, Fv, Fx, dx, Fmat)\n",
    "\n",
    "            r = np.random.rand()\n",
    "            \n",
    "       #     print(tau_min, k, m, M, m/M)\n",
    "            if (r <= m/M):\n",
    "                v_new[k] = -v_new[k]\n",
    "                reflect_count = reflect_count + 1\n",
    "        else:\n",
    "            k = k_g_min\n",
    "            v_new[k] = -v_new[k]\n",
    "            reflect_count = reflect_count + 1\n",
    "        \n",
    "        \n",
    "        t = t + tau_min\n",
    "        x = x + tau_min*v\n",
    "        \n",
    "        v = v_new.copy()\n",
    "        \n",
    "    erg_av = erg_av/t\n",
    "    erg_var = erg_var/t - (erg_av)**2\n",
    "    \n",
    "    pbar.close()\n",
    "    \n",
    "    return(erg_av, erg_var, x_sample, v_sample, t_sample, num_reflect)"
   ]
  },
  {
   "cell_type": "markdown",
   "metadata": {},
   "source": [
    "$$ a_i = 1/i^\\alpha$$"
   ]
  },
  {
   "cell_type": "code",
   "execution_count": 524,
   "metadata": {},
   "outputs": [
    {
     "ename": "TypeError",
     "evalue": "zz_non_gaussian() missing 2 required positional arguments: 'Fmat' and 'dx'",
     "output_type": "error",
     "traceback": [
      "\u001b[0;31m---------------------------------------------------------------------------\u001b[0m",
      "\u001b[0;31mTypeError\u001b[0m                                 Traceback (most recent call last)",
      "\u001b[0;32m<ipython-input-524-2c1662b45f6c>\u001b[0m in \u001b[0;36m<module>\u001b[0;34m()\u001b[0m\n\u001b[1;32m      7\u001b[0m \u001b[0mnum_samples\u001b[0m \u001b[0;34m=\u001b[0m \u001b[0mint\u001b[0m\u001b[0;34m(\u001b[0m\u001b[0mT\u001b[0m\u001b[0;34m/\u001b[0m\u001b[0;36m1e-1\u001b[0m\u001b[0;34m)\u001b[0m\u001b[0;34m\u001b[0m\u001b[0m\n\u001b[1;32m      8\u001b[0m \u001b[0;34m\u001b[0m\u001b[0m\n\u001b[0;32m----> 9\u001b[0;31m \u001b[0merg_av_zz\u001b[0m\u001b[0;34m,\u001b[0m \u001b[0merg_var_zz\u001b[0m\u001b[0;34m,\u001b[0m \u001b[0mx_sample_zz\u001b[0m\u001b[0;34m,\u001b[0m \u001b[0mv_sample_zz\u001b[0m\u001b[0;34m,\u001b[0m \u001b[0mt_sample_zz\u001b[0m\u001b[0;34m,\u001b[0m \u001b[0mreflect_count_zz\u001b[0m \u001b[0;34m=\u001b[0m \u001b[0mzz_non_gaussian\u001b[0m\u001b[0;34m(\u001b[0m\u001b[0mC\u001b[0m\u001b[0;34m,\u001b[0m \u001b[0mx0\u001b[0m\u001b[0;34m,\u001b[0m \u001b[0mv0\u001b[0m\u001b[0;34m,\u001b[0m \u001b[0mT\u001b[0m\u001b[0;34m,\u001b[0m \u001b[0mnum_samples\u001b[0m\u001b[0;34m)\u001b[0m\u001b[0;34m\u001b[0m\u001b[0m\n\u001b[0m",
      "\u001b[0;31mTypeError\u001b[0m: zz_non_gaussian() missing 2 required positional arguments: 'Fmat' and 'dx'"
     ]
    }
   ],
   "source": [
    "C = np.diag(np.array(1.0/(np.pi*np.arange(1, K+1))**2))\n",
    "alpha = 4.0\n",
    "v0 = 1.0/np.arange(1, K+1)**alpha\n",
    "x0 = np.zeros(C.shape[0])\n",
    "\n",
    "T = 10000.0\n",
    "num_samples = int(T/1e-1)\n",
    "\n",
    "erg_av_zz, erg_var_zz, x_sample_zz, v_sample_zz, t_sample_zz, reflect_count_zz = zz_non_gaussian(C, x0, v0, T, num_samples)\n"
   ]
  },
  {
   "cell_type": "code",
   "execution_count": 404,
   "metadata": {},
   "outputs": [],
   "source": [
    "x_sample_zz_real = (Fmat @ x_sample_zz.T).T"
   ]
  },
  {
   "cell_type": "code",
   "execution_count": 27,
   "metadata": {},
   "outputs": [],
   "source": [
    "def compute_errors(erg_av, erg_var,x_sample, C, dx):\n",
    "    Cinv=lin.inv(C)\n",
    "    av_err = np.linalg.norm(erg_av)\n",
    "    cv_err = np.mean(np.abs(np.mean((Cinv@x_sample.T + 2.0*dx*((x_sample.T)**3 - x_sample.T)).T,0)))\n",
    "    \n",
    "    return (av_err, cv_err)\n",
    "    \n",
    "def run_experiment_zz_ng(N, K, alpha, burnin, fname):\n",
    "    R = 1.0\n",
    "    dx = R/N\n",
    "    \n",
    "    mesh = np.linspace(0, R, N, endpoint=False)[1:]\n",
    "    \n",
    "    BBcov = np.zeros((len(mesh), len(mesh)))\n",
    "    \n",
    "    for i in range(len(mesh)):\n",
    "        for j in range(len(mesh)):\n",
    "            BBcov[i, j] = np.minimum(mesh[i]/R, mesh[j]/R) - mesh[i]*mesh[j]/(R*R)\n",
    "\n",
    "            \n",
    "    C = BBcov\n",
    "    Fmat = np.sqrt(2)*np.array([[np.sin(np.pi*k*m) for k in range(1, K+1)] for m in mesh])\n",
    "\n",
    "    x0 = np.zeros(K)\n",
    "    v0 = 1.0/np.arange(1, K+1)**alpha\n",
    "    \n",
    "    T = 1000.0\n",
    "    num_samples = int(T)\n",
    "\n",
    "    erg_av, erg_var, x_sample, v_sample, t_sample, reflect_count_zz = zz_non_gaussian(C, x0, v0, T, num_samples, Fmat, dx)\n",
    "    \n",
    "    #Convert to real coordinates\n",
    "    x_sample = (Fmat @ x_sample.T).T\n",
    "    \n",
    "    av_err,cv_err = compute_errors(erg_av, erg_var,x_sample, C, dx)\n",
    "        \n",
    "    x_sample=x_sample[burnin:,:]\n",
    "    reflect_count_zz= reflect_count_zz[burnin:]\n",
    "    \n",
    "    plt.subplot(2,2,1)\n",
    "    plt.plot(np.cumsum(x_sample[:,0])/np.arange(1, 1+ x_sample.shape[0]))\n",
    "\n",
    "    plt.subplot(2,2,2)\n",
    "    plt.plot(np.cumsum(reflect_count_zz)/np.arange(1, 1+ len(reflect_count_zz)))\n",
    "\n",
    "    plt.subplot(2,2,3)\n",
    "    plt.plot(st.acf(x_sample[:,0],unbiased=True))\n",
    "\n",
    "    plt.suptitle(\"d = %d, eta = %1.2f, av_err = %f\"%(N, alpha, av_err))\n",
    "    plt.tight_layout()\n",
    "    plt.savefig(fname+\".png\",dpi=199)\n",
    "    \n",
    "    np.savetxt(fname+\".txt\", (N, alpha, av_err, cv_err, np.mean(reflect_count_zz)))\n",
    "    \n",
    "    \n",
    "    plt.clf()"
   ]
  },
  {
   "cell_type": "code",
   "execution_count": 29,
   "metadata": {},
   "outputs": [
    {
     "data": {
      "application/vnd.jupyter.widget-view+json": {
       "model_id": "305c326a4b1946cabc107056428ba400",
       "version_major": 2,
       "version_minor": 0
      },
      "text/plain": [
       "HBox(children=(IntProgress(value=0, max=1000), HTML(value='')))"
      ]
     },
     "metadata": {},
     "output_type": "display_data"
    },
    {
     "ename": "ValueError",
     "evalue": "matmul: Input operand 1 has a mismatch in its core dimension 0, with gufunc signature (n?,k),(k,m?)->(n?,m?) (size 20 is different from 99)",
     "output_type": "error",
     "traceback": [
      "\u001b[0;31m---------------------------------------------------------------------------\u001b[0m",
      "\u001b[0;31mValueError\u001b[0m                                Traceback (most recent call last)",
      "\u001b[0;32m<ipython-input-29-0e1fa76295c8>\u001b[0m in \u001b[0;36m<module>\u001b[0;34m\u001b[0m\n\u001b[0;32m----> 1\u001b[0;31m \u001b[0mrun_experiment_zz_ng\u001b[0m\u001b[0;34m(\u001b[0m\u001b[0;36m100\u001b[0m\u001b[0;34m,\u001b[0m \u001b[0;36m20\u001b[0m\u001b[0;34m,\u001b[0m \u001b[0;36m0.0\u001b[0m\u001b[0;34m,\u001b[0m \u001b[0;36m00\u001b[0m\u001b[0;34m,\u001b[0m \u001b[0;34m\"figures/zz_nd3_0\"\u001b[0m\u001b[0;34m)\u001b[0m\u001b[0;34m;\u001b[0m\u001b[0;34m\u001b[0m\u001b[0;34m\u001b[0m\u001b[0m\n\u001b[0m",
      "\u001b[0;32m<ipython-input-27-2a0e76765de4>\u001b[0m in \u001b[0;36mrun_experiment_zz_ng\u001b[0;34m(N, K, alpha, burnin, fname)\u001b[0m\n\u001b[1;32m     29\u001b[0m \u001b[0;34m\u001b[0m\u001b[0m\n\u001b[1;32m     30\u001b[0m     \u001b[0merg_av\u001b[0m\u001b[0;34m,\u001b[0m \u001b[0merg_var\u001b[0m\u001b[0;34m,\u001b[0m \u001b[0mx_sample\u001b[0m\u001b[0;34m,\u001b[0m \u001b[0mv_sample\u001b[0m\u001b[0;34m,\u001b[0m \u001b[0mt_sample\u001b[0m\u001b[0;34m,\u001b[0m \u001b[0mreflect_count_zz\u001b[0m \u001b[0;34m=\u001b[0m \u001b[0mzz_non_gaussian\u001b[0m\u001b[0;34m(\u001b[0m\u001b[0mC\u001b[0m\u001b[0;34m,\u001b[0m \u001b[0mx0\u001b[0m\u001b[0;34m,\u001b[0m \u001b[0mv0\u001b[0m\u001b[0;34m,\u001b[0m \u001b[0mT\u001b[0m\u001b[0;34m,\u001b[0m \u001b[0mnum_samples\u001b[0m\u001b[0;34m,\u001b[0m \u001b[0mFmat\u001b[0m\u001b[0;34m,\u001b[0m \u001b[0mdx\u001b[0m\u001b[0;34m)\u001b[0m\u001b[0;34m\u001b[0m\u001b[0;34m\u001b[0m\u001b[0m\n\u001b[0;32m---> 31\u001b[0;31m     \u001b[0mav_err\u001b[0m\u001b[0;34m,\u001b[0m\u001b[0mcv_err\u001b[0m \u001b[0;34m=\u001b[0m \u001b[0mcompute_errors\u001b[0m\u001b[0;34m(\u001b[0m\u001b[0merg_av\u001b[0m\u001b[0;34m,\u001b[0m \u001b[0merg_var\u001b[0m\u001b[0;34m,\u001b[0m\u001b[0mx_sample\u001b[0m\u001b[0;34m,\u001b[0m \u001b[0mC\u001b[0m\u001b[0;34m,\u001b[0m \u001b[0mdx\u001b[0m\u001b[0;34m)\u001b[0m\u001b[0;34m\u001b[0m\u001b[0;34m\u001b[0m\u001b[0m\n\u001b[0m\u001b[1;32m     32\u001b[0m \u001b[0;34m\u001b[0m\u001b[0m\n\u001b[1;32m     33\u001b[0m     \u001b[0mx_sample\u001b[0m\u001b[0;34m=\u001b[0m\u001b[0mx_sample\u001b[0m\u001b[0;34m[\u001b[0m\u001b[0mburnin\u001b[0m\u001b[0;34m:\u001b[0m\u001b[0;34m,\u001b[0m\u001b[0;34m:\u001b[0m\u001b[0;34m]\u001b[0m\u001b[0;34m\u001b[0m\u001b[0;34m\u001b[0m\u001b[0m\n",
      "\u001b[0;32m<ipython-input-27-2a0e76765de4>\u001b[0m in \u001b[0;36mcompute_errors\u001b[0;34m(erg_av, erg_var, x_sample, C, dx)\u001b[0m\n\u001b[1;32m      2\u001b[0m     \u001b[0mCinv\u001b[0m\u001b[0;34m=\u001b[0m\u001b[0mlin\u001b[0m\u001b[0;34m.\u001b[0m\u001b[0minv\u001b[0m\u001b[0;34m(\u001b[0m\u001b[0mC\u001b[0m\u001b[0;34m)\u001b[0m\u001b[0;34m\u001b[0m\u001b[0;34m\u001b[0m\u001b[0m\n\u001b[1;32m      3\u001b[0m     \u001b[0mav_err\u001b[0m \u001b[0;34m=\u001b[0m \u001b[0mnp\u001b[0m\u001b[0;34m.\u001b[0m\u001b[0mlinalg\u001b[0m\u001b[0;34m.\u001b[0m\u001b[0mnorm\u001b[0m\u001b[0;34m(\u001b[0m\u001b[0merg_av\u001b[0m\u001b[0;34m)\u001b[0m\u001b[0;34m\u001b[0m\u001b[0;34m\u001b[0m\u001b[0m\n\u001b[0;32m----> 4\u001b[0;31m     \u001b[0mcv_err\u001b[0m \u001b[0;34m=\u001b[0m \u001b[0mnp\u001b[0m\u001b[0;34m.\u001b[0m\u001b[0mmean\u001b[0m\u001b[0;34m(\u001b[0m\u001b[0mnp\u001b[0m\u001b[0;34m.\u001b[0m\u001b[0mabs\u001b[0m\u001b[0;34m(\u001b[0m\u001b[0mnp\u001b[0m\u001b[0;34m.\u001b[0m\u001b[0mmean\u001b[0m\u001b[0;34m(\u001b[0m\u001b[0;34m(\u001b[0m\u001b[0mCinv\u001b[0m\u001b[0;34m@\u001b[0m\u001b[0mx_sample\u001b[0m\u001b[0;34m.\u001b[0m\u001b[0mT\u001b[0m \u001b[0;34m+\u001b[0m \u001b[0;36m2.0\u001b[0m\u001b[0;34m*\u001b[0m\u001b[0mdx\u001b[0m\u001b[0;34m*\u001b[0m\u001b[0;34m(\u001b[0m\u001b[0;34m(\u001b[0m\u001b[0mx_sample\u001b[0m\u001b[0;34m.\u001b[0m\u001b[0mT\u001b[0m\u001b[0;34m)\u001b[0m\u001b[0;34m**\u001b[0m\u001b[0;36m3\u001b[0m \u001b[0;34m-\u001b[0m \u001b[0mx_sample\u001b[0m\u001b[0;34m.\u001b[0m\u001b[0mT\u001b[0m\u001b[0;34m)\u001b[0m\u001b[0;34m)\u001b[0m\u001b[0;34m.\u001b[0m\u001b[0mT\u001b[0m\u001b[0;34m,\u001b[0m\u001b[0;36m0\u001b[0m\u001b[0;34m)\u001b[0m\u001b[0;34m)\u001b[0m\u001b[0;34m)\u001b[0m\u001b[0;34m\u001b[0m\u001b[0;34m\u001b[0m\u001b[0m\n\u001b[0m\u001b[1;32m      5\u001b[0m \u001b[0;34m\u001b[0m\u001b[0m\n\u001b[1;32m      6\u001b[0m     \u001b[0;32mreturn\u001b[0m \u001b[0;34m(\u001b[0m\u001b[0mav_err\u001b[0m\u001b[0;34m,\u001b[0m \u001b[0mcv_err\u001b[0m\u001b[0;34m)\u001b[0m\u001b[0;34m\u001b[0m\u001b[0;34m\u001b[0m\u001b[0m\n",
      "\u001b[0;31mValueError\u001b[0m: matmul: Input operand 1 has a mismatch in its core dimension 0, with gufunc signature (n?,k),(k,m?)->(n?,m?) (size 20 is different from 99)"
     ]
    }
   ],
   "source": [
    "run_experiment_zz_ng(100, 20, 0.0, 00, \"figures/zz_nd3_0\");"
   ]
  },
  {
   "cell_type": "code",
   "execution_count": null,
   "metadata": {},
   "outputs": [],
   "source": [
    "run_experiment_zz_ng(100, 20, 0.0, 500, \"figures/zz_nd3_0\");\n",
    "run_experiment_zz_ng(100, 20, 1.0, 500, \"figures/zz_nd3_1\");\n",
    "run_experiment_zz_ng(100, 20, 2.0, 500, \"figures/zz_nd3_2\");\n",
    "run_experiment_zz_ng(100, 20, 3.0, 500, \"figures/zz_nd3_3\");\n",
    "run_experiment_zz_ng(100, 20, 4.0, 500, \"figures/zz_nd3_4\");\n",
    "\n",
    "run_experiment_zz_ng(100, 40, 0.0, 500, \"figures/zz_nd5_0\");\n",
    "run_experiment_zz_ng(100, 40, 1.0, 500, \"figures/zz_nd5_1\");\n",
    "run_experiment_zz_ng(100, 40, 2.0, 500, \"figures/zz_nd5_2\");\n",
    "run_experiment_zz_ng(100, 40, 3.0, 500, \"figures/zz_nd5_3\");\n",
    "run_experiment_zz_ng(100, 40, 4.0, 500, \"figures/zz_nd5_4\");\n",
    "\n",
    "run_experiment_zz_ng(100, 60, 0.0, 500, \"figures/zz_nd7_0\");\n",
    "run_experiment_zz_ng(100, 60, 1.0, 500, \"figures/zz_nd7_1\");\n",
    "run_experiment_zz_ng(100, 60, 2.0, 500, \"figures/zz_nd7_2\");\n",
    "run_experiment_zz_ng(100, 60, 3.0, 500, \"figures/zz_nd7_3\");\n",
    "run_experiment_zz_ng(100, 60, 4.0, 500, \"figures/zz_nd7_4\");\n",
    "\n",
    "run_experiment_zz_ng(100, 80, 0.0, 500, \"figures/zz_nd9_0\");\n",
    "run_experiment_zz_ng(100, 80, 1.0, 500, \"figures/zz_nd9_1\");\n",
    "run_experiment_zz_ng(100, 80, 2.0, 500, \"figures/zz_nd9_2\");\n",
    "run_experiment_zz_ng(100, 80, 3.0, 500, \"figures/zz_nd9_3\");\n",
    "run_experiment_zz_ng(100, 80, 4.0, 500, \"figures/zz_nd9_4\");\n",
    "\n",
    "run_experiment_zz_ng(100, 100, 0.0, 500, \"figures/zz_nd11_0\");\n",
    "run_experiment_zz_ng(100, 100, 1.0, 500, \"figures/zz_nd11_1\");\n",
    "run_experiment_zz_ng(100, 100, 2.0, 500, \"figures/zz_nd11_2\");\n",
    "run_experiment_zz_ng(100, 100, 3.0, 500, \"figures/zz_nd11_3\");\n",
    "run_experiment_zz_ng(100, 100, 4.0, 500, \"figures/zz_nd11_4\");\n"
   ]
  },
  {
   "cell_type": "code",
   "execution_count": null,
   "metadata": {},
   "outputs": [],
   "source": [
    "import glob\n",
    "simulation_table = []\n",
    "for fname in glob.glob('figures/zz_nd*.txt', recursive=True):\n",
    "    x = np.loadtxt(fname)\n",
    "    simulation_table = simulation_table + [x]\n",
    "    \n",
    "simulation_table = np.vstack(simulation_table)\n",
    "simulation_table = simulation_table[simulation_table[:,0].argsort()]"
   ]
  },
  {
   "cell_type": "code",
   "execution_count": null,
   "metadata": {},
   "outputs": [],
   "source": [
    "series = simulation_table[simulation_table[:,1]==0.0,:]\n",
    "plt.loglog(series[:,0], series[:,4], label='alpha = 0')\n",
    "\n",
    "series = simulation_table[simulation_table[:,1]==1.0,:]\n",
    "plt.loglog(series[:,0], series[:,4], label='alpha = 1')\n",
    "\n",
    "series = simulation_table[simulation_table[:,1]==2.0,:]\n",
    "plt.loglog(series[:,0], series[:,4], label='alpha = 2')\n",
    "\n",
    "series = simulation_table[simulation_table[:,1]==3.0,:]\n",
    "plt.loglog(series[:,0], series[:,4], label='alpha = 3')\n",
    "\n",
    "series = simulation_table[simulation_table[:,1]==4.0,:]\n",
    "plt.loglog(series[:,0], series[:,4], label='alpha = 4')\n",
    "\n",
    "plt.legend()\n",
    "plt.xlabel(\"dimension\")\n",
    "plt.ylabel(\"flips per unit time\")\n",
    "plt.title(\"Number of flips per unit time\")\n",
    "#plt.show()\n",
    "plt.savefig(\"figures/zz_ng_flips.png\",dpi=199)"
   ]
  },
  {
   "cell_type": "code",
   "execution_count": null,
   "metadata": {},
   "outputs": [],
   "source": [
    "series = simulation_table[simulation_table[:,1]==0.0,:]\n",
    "plt.loglog(series[:,0], series[:,3], label='alpha = 0')\n",
    "\n",
    "series = simulation_table[simulation_table[:,1]==1.0,:]\n",
    "plt.loglog(series[:,0], series[:,3], label='alpha = 1')\n",
    "\n",
    "series = simulation_table[simulation_table[:,1]==2.0,:]\n",
    "plt.loglog(series[:,0], series[:,3], label='alpha = 2')\n",
    "\n",
    "series = simulation_table[simulation_table[:,1]==3.0,:]\n",
    "plt.loglog(series[:,0], series[:,3], label='alpha = 3')\n",
    "\n",
    "series = simulation_table[simulation_table[:,1]==4.0,:]\n",
    "plt.loglog(series[:,0], series[:,3], label='alpha = 4')\n",
    "\n",
    "plt.legend()\n",
    "\n",
    "plt.xlabel(\"dimension\")\n",
    "plt.ylabel(\"L2 norm of cv error\")\n",
    "plt.title(\"Error in CV error\")\n",
    "#plt.show()\n",
    "plt.savefig(\"figures/zz_ng_error_cv.png\",dpi=199)"
   ]
  },
  {
   "cell_type": "code",
   "execution_count": null,
   "metadata": {},
   "outputs": [],
   "source": [
    "series = simulation_table[simulation_table[:,1]==0.0,:]\n",
    "plt.loglog(series[:,0], series[:,2], label='alpha = 0')\n",
    "\n",
    "series = simulation_table[simulation_table[:,1]==1.0,:]\n",
    "plt.loglog(series[:,0], series[:,2], label='alpha = 1')\n",
    "\n",
    "series = simulation_table[simulation_table[:,1]==2.0,:]\n",
    "plt.loglog(series[:,0], series[:,2], label='alpha = 2')\n",
    "\n",
    "series = simulation_table[simulation_table[:,1]==3.0,:]\n",
    "plt.loglog(series[:,0], series[:,2], label='alpha = 3')\n",
    "\n",
    "series = simulation_table[simulation_table[:,1]==4.0,:]\n",
    "plt.loglog(series[:,0], series[:,2], label='alpha = 4')\n",
    "\n",
    "plt.legend()\n",
    "\n",
    "plt.xlabel(\"dimension\")\n",
    "plt.ylabel(\"L2 norm of mean error\")\n",
    "plt.title(\"Error in marginal mean\")\n",
    "#plt.show()\n",
    "plt.savefig(\"figures/zz_ng_error_mean.png\",dpi=199)"
   ]
  }
 ],
 "metadata": {
  "kernelspec": {
   "display_name": "Python 3",
   "language": "python",
   "name": "python3"
  },
  "language_info": {
   "codemirror_mode": {
    "name": "ipython",
    "version": 3
   },
   "file_extension": ".py",
   "mimetype": "text/x-python",
   "name": "python",
   "nbconvert_exporter": "python",
   "pygments_lexer": "ipython3",
   "version": "3.7.3"
  }
 },
 "nbformat": 4,
 "nbformat_minor": 2
}
